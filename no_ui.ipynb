{
 "cells": [
  {
   "cell_type": "code",
   "execution_count": 1,
   "id": "01e455f2-6c5c-4f4d-999c-9e3351178117",
   "metadata": {},
   "outputs": [],
   "source": [
    "%load_ext autoreload\n",
    "%autoreload 2"
   ]
  },
  {
   "cell_type": "code",
   "execution_count": 2,
   "id": "5a27c4dd-3dde-4902-8c65-fed6a40e4497",
   "metadata": {},
   "outputs": [
    {
     "data": {
      "text/html": [
       "<style>/*******************************************************************************\n",
       " * Customization of the provided css from the different libs used by sepal_ui\n",
       " */\n",
       "\n",
       "/* replace the map panel elements on top */\n",
       ".leaflet-pane,\n",
       ".leaflet-top,\n",
       ".leaflet-bottom {\n",
       "  z-index: 2 !important;\n",
       "}\n",
       "\n",
       "/* remove the shadow from the widgets on the maps */\n",
       ".leaflet-widgetcontrol {\n",
       "  box-shadow: none;\n",
       "}\n",
       "\n",
       "/* remove extra padding on top of the content */\n",
       "main.v-content {\n",
       "  padding-top: 0px !important;\n",
       "}\n",
       "\n",
       ".v-alert__wrapper .progress {\n",
       "  background-color: transparent;\n",
       "}\n",
       "\n",
       "/* set the bar on top of the map (800) when set to fullscreen */\n",
       "header.v-app-bar {\n",
       "  z-index: 800 !important;\n",
       "}\n",
       "\n",
       "/* set the menu_content on top of the map when it's set to fullscreen */\n",
       ".v-menu__content {\n",
       "  max-width: 100% !important;\n",
       "  z-index: 801 !important;\n",
       "}\n",
       "\n",
       "/* make sure navigation drawers are always visible when they exist */\n",
       "nav.v-navigation-drawer {\n",
       "  z-index: 900 !important;\n",
       "}\n",
       "\n",
       "/* create extra position for the leaflet map controls */\n",
       ".leaflet-center {\n",
       "  left: 50%;\n",
       "  transform: translate(-50%, 0%);\n",
       "}\n",
       "\n",
       ".leaflet-middle {\n",
       "  top: 50%;\n",
       "  position: absolute;\n",
       "  z-index: 1000;\n",
       "  pointer-events: none;\n",
       "  transform: translate(0%, -50%);\n",
       "}\n",
       "\n",
       ".leaflet-center.leaflet-middle {\n",
       "  transform: translate(-50%, -50%);\n",
       "}\n",
       "\n",
       "/* create extra classes to customize the layer_control table */\n",
       ".v-no-hover:hover {\n",
       "  background-color: transparent !important;\n",
       "}\n",
       "\n",
       ".v-no-border tbody tr td,\n",
       ".v-no-border tbody tr th {\n",
       "  border: none !important;\n",
       "}\n",
       "\n",
       "/* extra css rules to make the messages disappear beneath the SimpleSlider */\n",
       ".v-no-messages .v-messages {\n",
       "  display: none;\n",
       "}\n",
       "\n",
       ".v-no-messages .v-input__slot {\n",
       "  margin-bottom: 0;\n",
       "}\n",
       "\n",
       "/* specific css for the btn placed on maps */\n",
       ".v-btn.v-size--default.v-map-btn:not(.v-btn--round) {\n",
       "  padding: 0px;\n",
       "  min-width: 0px;\n",
       "  width: 30px;\n",
       "  height: 30px;\n",
       "}\n",
       "\n",
       "/* add specific css for the zoom btn of the map */\n",
       ".v-btn.v-zoom-plus {\n",
       "  border-bottom-left-radius: 0;\n",
       "  border-bottom-right-radius: 0;\n",
       "}\n",
       "\n",
       ".v-btn.v-zoom-minus {\n",
       "  margin-top: -1px;\n",
       "  border-top-left-radius: 0;\n",
       "  border-top-right-radius: 0;\n",
       "}\n",
       "\n",
       "/* css rules for fullscreen menus */\n",
       ".v-card.v-menu-fullscreen {\n",
       "  width: calc(100vw - 80px);\n",
       "  height: calc(100vh - 20px);\n",
       "}\n",
       "\n",
       "/* hide the disclaimer message placed on top of the ui notebook\n",
       " * the message will be displayed until the css is loaded */\n",
       "#loading-app {\n",
       "  display: none !important;\n",
       "}\n",
       "\n",
       "/* Related with https://github.com/12rambau/sepal_ui/issues/893 */\n",
       "#rendered_cells,\n",
       "#main {\n",
       "  contain: revert !important;\n",
       "  background-color: revert !important;\n",
       "}\n",
       "\n",
       "#jp-main-content-panel {\n",
       "  contain: revert !important;\n",
       "}\n",
       "\n",
       ".full-screen-map > .leaflet-container {\n",
       "  position: fixed !important;\n",
       "  width: 100vw;\n",
       "  height: calc(100vh - 48px);\n",
       "  z-index: 800;\n",
       "  bottom: 0;\n",
       "  left: 0;\n",
       "}\n",
       "</style>"
      ],
      "text/plain": [
       "<IPython.core.display.HTML object>"
      ]
     },
     "metadata": {},
     "output_type": "display_data"
    },
    {
     "data": {
      "text/html": [
       "<link rel=\"stylesheet\" href=\"https://cdnjs.cloudflare.com/ajax/libs/font-awesome/6.2.1/css/all.min.css\"/>"
      ],
      "text/plain": [
       "<IPython.core.display.HTML object>"
      ]
     },
     "metadata": {},
     "output_type": "display_data"
    },
    {
     "data": {
      "application/javascript": [
       "/*******************************************************************************\n",
       " * remove any links from fontawesome 5 created by jupyter in favor of\n",
       " * fontawesome 6. to be removed when Jupyter updates it\n",
       " */\n",
       "\n",
       "function remove_fa5() {\n",
       "  let links = document.querySelectorAll(\n",
       "    \"link[href^='https://cdn.jsdelivr.net/npm/@fortawesome/fontawesome-free@^5']\"\n",
       "  );\n",
       "\n",
       "  links.forEach((link) => link.remove());\n",
       "}\n",
       "\n",
       "if (document.readyState != \"loading\") remove_fa5();\n",
       "else document.addEventListener(\"DOMContentLoaded\", remove_fa5);\n"
      ],
      "text/plain": [
       "<IPython.core.display.Javascript object>"
      ]
     },
     "metadata": {},
     "output_type": "display_data"
    },
    {
     "data": {
      "application/vnd.jupyter.widget-view+json": {
       "model_id": "b1e1ed129be04c909c98d1168baef5c5",
       "version_major": 2,
       "version_minor": 0
      },
      "text/plain": [
       "ResizeTrigger()"
      ]
     },
     "metadata": {},
     "output_type": "display_data"
    }
   ],
   "source": [
    "from sepal_ui import sepalwidgets as sw\n",
    "from sepal_ui import aoi\n",
    "from sepal_ui.mapping import SepalMap\n",
    "from sepal_ui.scripts import utils as su\n",
    "from sepal_ui.mapping.inspector_control import InspectorControl\n",
    "from sepal_ui.mapping.draw_control import DrawControl\n",
    "\n",
    "import ipyvuetify as v\n",
    "import ee\n",
    "su.init_ee()\n",
    "\n",
    "from datetime import datetime, date\n",
    "from math import floor, ceil"
   ]
  },
  {
   "cell_type": "code",
   "execution_count": 6,
   "id": "85187a23-cabc-4d9e-94b0-bbc7e20bedd5",
   "metadata": {},
   "outputs": [
    {
     "data": {
      "application/vnd.jupyter.widget-view+json": {
       "model_id": "868791d56a9948788559e360fe8b0a39",
       "version_major": 2,
       "version_minor": 0
      },
      "text/plain": [
       "AoiView(children=[MethodSelect(dense=True, items=[{'header': 'Administrative definitions'}, {'text': 'Admin le…"
      ]
     },
     "execution_count": 6,
     "metadata": {},
     "output_type": "execute_result"
    }
   ],
   "source": [
    "from sepal_ui import aoi\n",
    "aoi_view = aoi.AoiView(\n",
    "            gee=True,\n",
    "            map_=map_1,\n",
    "            methods=[\"ADMIN1\", \"ADMIN2\", \"SHAPE\", \"DRAW\", \"ASSET\"],\n",
    "        )\n",
    "aoi_view"
   ]
  },
  {
   "cell_type": "code",
   "execution_count": 8,
   "id": "6f4e63db-74b4-4234-86d8-ad6e135b45d4",
   "metadata": {},
   "outputs": [
    {
     "data": {
      "text/plain": [
       "AoiModel(admin=2327, asset_name=None, method=ADMIN1, name=PRY_San_Pedro, asset_json=None, vector_json=None, point_json=None, geo_json={'type': 'FeatureCollection', 'features': []})"
      ]
     },
     "execution_count": 8,
     "metadata": {},
     "output_type": "execute_result"
    }
   ],
   "source": [
    "aoi_view.model"
   ]
  },
  {
   "cell_type": "code",
   "execution_count": 3,
   "id": "4904ea8a-fdcd-439b-8be7-93f5dd954d57",
   "metadata": {},
   "outputs": [
    {
     "data": {
      "application/vnd.jupyter.widget-view+json": {
       "model_id": "ef83d845d84143cc86806133d977cee2",
       "version_major": 2,
       "version_minor": 0
      },
      "text/plain": [
       "SepalMap(center=[0, 0], controls=(ZoomControl(options=['position', 'transparent_bg'], position='topright', wid…"
      ]
     },
     "execution_count": 3,
     "metadata": {},
     "output_type": "execute_result"
    }
   ],
   "source": [
    "map_1 = SepalMap(vinspector= True)\n",
    "map_1.add_basemap(\"SATELLITE\")\n",
    "dc = DrawControl(map_1)\n",
    "map_1.add(dc)\n",
    "map_1"
   ]
  },
  {
   "cell_type": "code",
   "execution_count": null,
   "id": "564df74a-59b5-475f-8f83-6d7e75c56012",
   "metadata": {},
   "outputs": [],
   "source": [
    "aoi = ee.FeatureCollection(dc.to_json())\n",
    "start = '2024-12-01'\n",
    "end = '2025-01-02'"
   ]
  },
  {
   "cell_type": "code",
   "execution_count": null,
   "id": "8ba6f2bc-96cc-4ab4-8e2a-cb68ba1e5568",
   "metadata": {},
   "outputs": [],
   "source": [
    "def _from_radd(start, end, aoi):\n",
    "    \"\"\"reformat the radd alerts to fit the module expectation\"\"\"\n",
    "\n",
    "    # extract dates from parameters\n",
    "    start = datetime.strptime(start, \"%Y-%m-%d\")\n",
    "    end = datetime.strptime(end, \"%Y-%m-%d\")\n",
    "\n",
    "    # select the alerts and mosaic them as image\n",
    "    source = \"projects/radar-wur/raddalert/v1\"\n",
    "    alerts = (\n",
    "        ee.ImageCollection(source)\n",
    "        .filterBounds(aoi)\n",
    "        .filterMetadata(\"layer\", \"contains\", \"alert\")\n",
    "        .mosaic()\n",
    "        .uint16()\n",
    "    )\n",
    "\n",
    "    # filter the alerts dates\n",
    "    # extract julian dates ()\n",
    "    start = int(start.strftime(\"%y%j\"))\n",
    "    end = int(end.strftime(\"%y%j\"))\n",
    "\n",
    "    # masked all the images that are not between the limits dates\n",
    "    alerts = alerts.updateMask(\n",
    "        alerts.select(\"Date\").gt(start).And(alerts.select(\"Date\").lt(end))\n",
    "    )\n",
    "\n",
    "    # create a unique alert band\n",
    "    alert_band = (\n",
    "        alerts.select(\"Alert\").remap([0, 1, 2, 3], [0, 0, 2, 1]).rename(\"alert\")\n",
    "    )\n",
    "\n",
    "    # change the date format\n",
    "    date_band = alerts.select(\"Date\").divide(1000).add(2000).rename(\"date\")\n",
    "\n",
    "    # create the composit image\n",
    "    all_alerts = alerts.addBands(alert_band).addBands(date_band)\n",
    "\n",
    "    return all_alerts.clip(aoi)"
   ]
  },
  {
   "cell_type": "code",
   "execution_count": null,
   "id": "d95572d5-4dc2-41fd-9ef8-d92ab84239f9",
   "metadata": {},
   "outputs": [],
   "source": [
    "test = _from_radd(start, end, aoi)"
   ]
  },
  {
   "cell_type": "code",
   "execution_count": null,
   "id": "18e14e94-1a29-4373-ab57-cb065335d09a",
   "metadata": {},
   "outputs": [],
   "source": [
    "map_2 = SepalMap(vinspector= True)\n",
    "map_2.add_basemap(\"SATELLITE\")\n",
    "map_2.addLayer(ee_object=aoi, name=\"aoi\")\n",
    "map_2.addLayer(test, name=\"rad\")\n",
    "map_2"
   ]
  },
  {
   "cell_type": "code",
   "execution_count": null,
   "id": "2a2c66fc-4fcc-4c74-8ab6-9683d10a36b1",
   "metadata": {},
   "outputs": [],
   "source": [
    "#Inputs\n",
    "clip_alert = test\n",
    "# Generar 3 bandas para las alertas de todo el area\n",
    "i = clip_alert.select(\"alert\").gt(0).rename(\"mask_alert\")\n",
    "a = clip_alert.select(\"alert\")\n",
    "d = clip_alert.select(\"date\")\n",
    "# alertarea = i.multiply(ee.Image.pixelArea()).rename('area');\n",
    "\n",
    "alerta_reducir = i.addBands(i).addBands(a).addBands(d)\n",
    "map_2.addLayer(alerta_reducir, name=\"alerta_reducir\")\n"
   ]
  },
  {
   "cell_type": "code",
   "execution_count": null,
   "id": "8153ad7e-5528-43f1-a12c-9e2f897dc1e8",
   "metadata": {},
   "outputs": [],
   "source": [
    "\n",
    "custom_reducer = (\n",
    "    ee.Reducer.count()\n",
    "    .combine(ee.Reducer.mean().unweighted(), \"alert_type_\")\n",
    "    .combine(ee.Reducer.minMax().unweighted(), \"alert_date_\")\n",
    ")\n"
   ]
  },
  {
   "cell_type": "code",
   "execution_count": null,
   "id": "60ee1445-f0ae-415c-a434-e7ef1dd8b3d2",
   "metadata": {},
   "outputs": [],
   "source": [
    "alert_raster = test\n",
    "\n",
    "   #reducer, geometry, scale, geometryType, eightConnected, labelProperty, crs, crsTransform, bestEffort, maxPixels, tileScale, geometryInNativeProjection\n",
    "bb = alerta_reducir.reduceToVectors(\n",
    "    reducer=custom_reducer,\n",
    "    geometry=aoi,\n",
    "    scale=15,\n",
    "    geometryType=\"bb\",\n",
    "    #eightConnected=True,\n",
    "    #crs= 'EPSG:4326',\n",
    "    maxPixels=1e13,\n",
    "    tileScale=1,\n",
    ").getInfo()\n",
    "\n",
    "print(bb)"
   ]
  }
 ],
 "metadata": {
  "kernelspec": {
   "display_name": "Python 3",
   "language": "python",
   "name": "python3"
  },
  "language_info": {
   "codemirror_mode": {
    "name": "ipython",
    "version": 3
   },
   "file_extension": ".py",
   "mimetype": "text/x-python",
   "name": "python",
   "nbconvert_exporter": "python",
   "pygments_lexer": "ipython3",
   "version": "3.10.12"
  }
 },
 "nbformat": 4,
 "nbformat_minor": 5
}
