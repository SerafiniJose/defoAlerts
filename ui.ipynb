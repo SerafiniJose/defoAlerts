{
 "cells": [
  {
   "cell_type": "code",
   "execution_count": 1,
   "metadata": {},
   "outputs": [],
   "source": [
    "%load_ext autoreload\n",
    "%autoreload 2"
   ]
  },
  {
   "cell_type": "code",
   "execution_count": 2,
   "metadata": {},
   "outputs": [
    {
     "data": {
      "text/html": [
       "<style>/*******************************************************************************\n",
       " * Customization of the provided css from the different libs used by sepal_ui\n",
       " */\n",
       "\n",
       "/* replace the map panel elements on top */\n",
       ".leaflet-pane,\n",
       ".leaflet-top,\n",
       ".leaflet-bottom {\n",
       "  z-index: 2 !important;\n",
       "}\n",
       "\n",
       "/* remove the shadow from the widgets on the maps */\n",
       ".leaflet-widgetcontrol {\n",
       "  box-shadow: none;\n",
       "}\n",
       "\n",
       "/* remove extra padding on top of the content */\n",
       "main.v-content {\n",
       "  padding-top: 0px !important;\n",
       "}\n",
       "\n",
       ".v-alert__wrapper .progress {\n",
       "  background-color: transparent;\n",
       "}\n",
       "\n",
       "/* set the bar on top of the map (800) when set to fullscreen */\n",
       "header.v-app-bar {\n",
       "  z-index: 800 !important;\n",
       "}\n",
       "\n",
       "/* set the menu_content on top of the map when it's set to fullscreen */\n",
       ".v-menu__content {\n",
       "  max-width: 100% !important;\n",
       "  z-index: 801 !important;\n",
       "}\n",
       "\n",
       "/* make sure navigation drawers are always visible when they exist */\n",
       "nav.v-navigation-drawer {\n",
       "  z-index: 900 !important;\n",
       "}\n",
       "\n",
       "/* create extra position for the leaflet map controls */\n",
       ".leaflet-center {\n",
       "  left: 50%;\n",
       "  transform: translate(-50%, 0%);\n",
       "}\n",
       "\n",
       ".leaflet-middle {\n",
       "  top: 50%;\n",
       "  position: absolute;\n",
       "  z-index: 1000;\n",
       "  pointer-events: none;\n",
       "  transform: translate(0%, -50%);\n",
       "}\n",
       "\n",
       ".leaflet-center.leaflet-middle {\n",
       "  transform: translate(-50%, -50%);\n",
       "}\n",
       "\n",
       "/* create extra classes to customize the layer_control table */\n",
       ".v-no-hover:hover {\n",
       "  background-color: transparent !important;\n",
       "}\n",
       "\n",
       ".v-no-border tbody tr td,\n",
       ".v-no-border tbody tr th {\n",
       "  border: none !important;\n",
       "}\n",
       "\n",
       "/* extra css rules to make the messages disappear beneath the SimpleSlider */\n",
       ".v-no-messages .v-messages {\n",
       "  display: none;\n",
       "}\n",
       "\n",
       ".v-no-messages .v-input__slot {\n",
       "  margin-bottom: 0;\n",
       "}\n",
       "\n",
       "/* specific css for the btn placed on maps */\n",
       ".v-btn.v-size--default.v-map-btn:not(.v-btn--round) {\n",
       "  padding: 0px;\n",
       "  min-width: 0px;\n",
       "  width: 30px;\n",
       "  height: 30px;\n",
       "}\n",
       "\n",
       "/* add specific css for the zoom btn of the map */\n",
       ".v-btn.v-zoom-plus {\n",
       "  border-bottom-left-radius: 0;\n",
       "  border-bottom-right-radius: 0;\n",
       "}\n",
       "\n",
       ".v-btn.v-zoom-minus {\n",
       "  margin-top: -1px;\n",
       "  border-top-left-radius: 0;\n",
       "  border-top-right-radius: 0;\n",
       "}\n",
       "\n",
       "/* css rules for fullscreen menus */\n",
       ".v-card.v-menu-fullscreen {\n",
       "  width: calc(100vw - 80px);\n",
       "  height: calc(100vh - 20px);\n",
       "}\n",
       "\n",
       "/* hide the disclaimer message placed on top of the ui notebook\n",
       " * the message will be displayed until the css is loaded */\n",
       "#loading-app {\n",
       "  display: none !important;\n",
       "}\n",
       "\n",
       "/* Related with https://github.com/12rambau/sepal_ui/issues/893 */\n",
       "#rendered_cells,\n",
       "#main {\n",
       "  contain: revert !important;\n",
       "  background-color: revert !important;\n",
       "}\n",
       "\n",
       "#jp-main-content-panel {\n",
       "  contain: revert !important;\n",
       "}\n",
       "\n",
       ".full-screen-map > .leaflet-container {\n",
       "  position: fixed !important;\n",
       "  width: 100vw;\n",
       "  height: calc(100vh - 48px);\n",
       "  z-index: 800;\n",
       "  bottom: 0;\n",
       "  left: 0;\n",
       "}\n",
       "</style>"
      ],
      "text/plain": [
       "<IPython.core.display.HTML object>"
      ]
     },
     "metadata": {},
     "output_type": "display_data"
    },
    {
     "data": {
      "text/html": [
       "<link rel=\"stylesheet\" href=\"https://cdnjs.cloudflare.com/ajax/libs/font-awesome/6.2.1/css/all.min.css\"/>"
      ],
      "text/plain": [
       "<IPython.core.display.HTML object>"
      ]
     },
     "metadata": {},
     "output_type": "display_data"
    },
    {
     "data": {
      "application/javascript": [
       "/*******************************************************************************\n",
       " * remove any links from fontawesome 5 created by jupyter in favor of\n",
       " * fontawesome 6. to be removed when Jupyter updates it\n",
       " */\n",
       "\n",
       "function remove_fa5() {\n",
       "  let links = document.querySelectorAll(\n",
       "    \"link[href^='https://cdn.jsdelivr.net/npm/@fortawesome/fontawesome-free@^5']\"\n",
       "  );\n",
       "\n",
       "  links.forEach((link) => link.remove());\n",
       "}\n",
       "\n",
       "if (document.readyState != \"loading\") remove_fa5();\n",
       "else document.addEventListener(\"DOMContentLoaded\", remove_fa5);\n"
      ],
      "text/plain": [
       "<IPython.core.display.Javascript object>"
      ]
     },
     "metadata": {},
     "output_type": "display_data"
    },
    {
     "data": {
      "application/vnd.jupyter.widget-view+json": {
       "model_id": "6373b6a77bbe4e11ba216946e7811067",
       "version_major": 2,
       "version_minor": 0
      },
      "text/plain": [
       "ResizeTrigger()"
      ]
     },
     "metadata": {},
     "output_type": "display_data"
    }
   ],
   "source": [
    "from sepal_ui import sepalwidgets as sw\n",
    "from sepal_ui.frontend.resize_trigger import ResizeTrigger"
   ]
  },
  {
   "cell_type": "code",
   "execution_count": 3,
   "metadata": {},
   "outputs": [
    {
     "data": {
      "text/html": [
       "\n",
       "        <style>\n",
       "            .custom-map-class {\n",
       "                width: 100% !important;\n",
       "                height: 80vh !important;\n",
       "                }\n",
       "        </style>\n",
       "        "
      ],
      "text/plain": [
       "<IPython.core.display.HTML object>"
      ]
     },
     "metadata": {},
     "output_type": "display_data"
    },
    {
     "data": {
      "text/html": [
       "\n",
       "        <style>\n",
       "            .custom-map-class {\n",
       "                width: 100% !important;\n",
       "                height: 80vh !important;\n",
       "                }\n",
       "        </style>\n",
       "        "
      ],
      "text/plain": [
       "<IPython.core.display.HTML object>"
      ]
     },
     "metadata": {},
     "output_type": "display_data"
    },
    {
     "data": {
      "text/html": [
       "\n",
       "        <style>\n",
       "            .custom-map-class2 {\n",
       "                width: 100% !important;\n",
       "                height: 55vh !important;\n",
       "                }\n",
       "             .v-text-field .v-input__control .v-input__slot {\n",
       "                min-height: auto !important;\n",
       "                min-width: 40px,\n",
       "                max-width: 40px,\n",
       "                display: flex !important;\n",
       "                align-items: center !important;\n",
       "              }\n",
       "        </style>\n",
       "        "
      ],
      "text/plain": [
       "<IPython.core.display.HTML object>"
      ]
     },
     "metadata": {},
     "output_type": "display_data"
    },
    {
     "data": {
      "application/vnd.jupyter.widget-view+json": {
       "model_id": "7e03ad7cb69842e08716d58c8f42fd68",
       "version_major": 2,
       "version_minor": 0
      },
      "text/plain": [
       "HTML(value='\\n        <style>\\n            .custom-map-class {\\n                width: 100% !important;\\n     …"
      ]
     },
     "metadata": {},
     "output_type": "display_data"
    },
    {
     "data": {
      "application/vnd.jupyter.widget-view+json": {
       "model_id": "c0c4c6d2d2e8408887fbdca22ba82b02",
       "version_major": 2,
       "version_minor": 0
      },
      "text/plain": [
       "CustomApp(children=[Overlay(color='bg', layout=None, opacity=1.0, style_='transition:unset', z_index=-1.0), Cu…"
      ]
     },
     "metadata": {},
     "output_type": "display_data"
    }
   ],
   "source": [
    "#from sepal_ui import sepalwidgets as sw\n",
    "from component.message import cm\n",
    "#Import models\n",
    "from component.model.aoi_date_model import AoiDateModel\n",
    "from component.model.aux_model import AuxModel\n",
    "from component.model.alerts_model import AlertFilterModel, SelectedAlertsModel\n",
    "from component.model.analysis_model import AlertAnalysisModel\n",
    "from component.model.app_model import AppTileModel\n",
    "\n",
    "\n",
    "#Import tiles\n",
    "from component.tile.aoi_tile import AoiTile\n",
    "from component.tile.aux_tile import AuxTile\n",
    "from component.tile.recipe_tile import RecipeTile\n",
    "from component.tile.alerts_filter_tile import AlertsFilterTile\n",
    "from component.tile.overview_tile import OverviewTile\n",
    "from component.tile.analysis_tile import AnalysisTile\n",
    "\n",
    "#Import custom App\n",
    "from component.widget.custom_sw import CustomApp, CustomDrawerItem, CustomAppBar\n",
    "\n",
    "\n",
    "# link tiles and models\n",
    "from traitlets import Any, HasTraits, Unicode, link, observe\n",
    "\n",
    "# Create an appBar\n",
    "app_bar = CustomAppBar(cm.app.title, cm)\n",
    "\n",
    "#Create models\n",
    "aux_model = AuxModel()\n",
    "aoi_date_model = AoiDateModel()\n",
    "alert_filter_model = AlertFilterModel()\n",
    "selected_alerts_model = SelectedAlertsModel()\n",
    "analyzed_alerts_model = AlertAnalysisModel()\n",
    "app_tile_model = AppTileModel()\n",
    "\n",
    "#Create tiles\n",
    "aux_tile = AuxTile(aux_model)\n",
    "aoi_tile = AoiTile(aoi_date_model, alert_filter_model, aux_model, app_tile_model)\n",
    "alert_filter_tile = AlertsFilterTile(aoi_date_model, aux_model, alert_filter_model, selected_alerts_model, analyzed_alerts_model, app_tile_model)\n",
    "analysis_tile = AnalysisTile(aux_model, selected_alerts_model, analyzed_alerts_model, app_tile_model)\n",
    "overview_tile = OverviewTile(aoi_date_model, analyzed_alerts_model, selected_alerts_model, app_tile_model)\n",
    "recipe_tile = RecipeTile(aux_model , aoi_date_model, alert_filter_model, selected_alerts_model, analyzed_alerts_model, app_tile_model, aux_tile, aoi_tile, alert_filter_tile, analysis_tile, overview_tile)\n",
    "about_tile = sw.TileAbout(f\"utils/{cm.about.pathname}\")\n",
    "disclaimer_tile = sw.TileDisclaimer()\n",
    "\n",
    "\n",
    "#Link maps\n",
    "link((aoi_tile.map_1, \"center\"), (alert_filter_tile.map_1, \"center\"))\n",
    "link((aoi_tile.map_1, \"zoom\"), (alert_filter_tile.map_1, \"zoom\"))\n",
    "link((aoi_tile.map_1, \"center\"), (overview_tile.map_1, \"center\"))\n",
    "link((aoi_tile.map_1, \"zoom\"), (overview_tile.map_1, \"zoom\"))\n",
    "\n",
    "# Gather all the partial tiles that you created previously\n",
    "app_content = [about_tile, disclaimer_tile, recipe_tile, aux_tile, aoi_tile, alert_filter_tile, analysis_tile, overview_tile]\n",
    "# create a drawer for each group of tile\n",
    "# fmt: off\n",
    "items = [\n",
    "    CustomDrawerItem(app_tile_model, title = cm.app.drawer_item.about, icon = \"fa-solid fa-question-circle\", card=\"about_tile\"),\n",
    "    CustomDrawerItem(app_tile_model, title = \"Recipes\", icon = \"fa-solid fa-folder-open\", card=\"recipe_tile\"),\n",
    "    CustomDrawerItem(app_tile_model, title = \"Optional files\", icon = \"fa-solid fa-gear\", card=\"aux_tile\"),\n",
    "    CustomDrawerItem(app_tile_model, title = \"AOI/Date\", icon = \"fa-solid fa-globe\", card=\"aoi_tile\"),\n",
    "    CustomDrawerItem(app_tile_model, title = \"Filter\", icon = \"fa-solid fa-filter\", card=\"filter_alerts\"),\n",
    "    CustomDrawerItem(app_tile_model, title = \"Overview\", icon = \"fa-solid fa-map-location-dot\", card=\"overview_tile\"),\n",
    "    CustomDrawerItem(app_tile_model, title = \"Analysis\", icon = \"fa-solid fa-pen\", card=\"analysis_tile\"),\n",
    "]\n",
    "# fmt: on\n",
    "\n",
    "# Add the links to the code, wiki and issue tracker of your\n",
    "code_link = \"https://github.com/SerafiniJose/defoAlerts/\"\n",
    "wiki_link = \"https://github.com/SerafiniJose/defoAlerts/blob/master/doc/en.rst\"\n",
    "issue_link = \"https://github.com/SerafiniJose/defoAlerts/issues/new\"\n",
    "\n",
    "# Create the side drawer with all its components\n",
    "app_drawer = sw.NavDrawer(items=items, code=code_link, wiki=wiki_link, issue=issue_link)\n",
    "# build the Html final app by gathering everything\n",
    "app = CustomApp(\n",
    "    app_tile_model,\n",
    "    tiles=app_content,\n",
    "    appBar=app_bar,\n",
    "    navDrawer=app_drawer,\n",
    "    translator=cm,\n",
    ")\n",
    "# display the app\n",
    "app.show_tile(\"about_tile\")#.add_banner(cm.app.banner)"
   ]
  }
 ],
 "metadata": {
  "kernelspec": {
   "display_name": "Python 3",
   "language": "python",
   "name": "python3"
  },
  "language_info": {
   "codemirror_mode": {
    "name": "ipython",
    "version": 3
   },
   "file_extension": ".py",
   "mimetype": "text/x-python",
   "name": "python",
   "nbconvert_exporter": "python",
   "pygments_lexer": "ipython3",
   "version": "3.10.12"
  },
  "voila": {
   "theme": "dark"
  }
 },
 "nbformat": 4,
 "nbformat_minor": 4
}
