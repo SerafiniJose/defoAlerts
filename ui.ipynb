{
 "cells": [
  {
   "cell_type": "markdown",
   "metadata": {},
   "source": [
    "<center><h1 class=\"text-center h3\" id=\"loading-app\">Setting things up for you... Thanks for waiting!</h1></center>"
   ]
  },
  {
   "cell_type": "code",
   "execution_count": null,
   "metadata": {},
   "outputs": [],
   "source": [
    "from sepal_ui import sepalwidgets as sw\n",
    "from component.message import cm"
   ]
  },
  {
   "cell_type": "code",
   "execution_count": null,
   "metadata": {},
   "outputs": [],
   "source": [
    "# Create an appBar\n",
    "app_bar = sw.AppBar(cm.app.title, cm)"
   ]
  },
  {
   "cell_type": "code",
   "execution_count": null,
   "metadata": {},
   "outputs": [],
   "source": [
    "# load the partial files\n",
    "%run \"about_ui.ipynb\"\n",
    "%run \"test_ui.ipynb\"\n",
    "\n",
    "\n",
    "# Gather all the partial tiles that you created previously\n",
    "app_content = [about_tile, disclaimer_tile, recipe_tile, aux_tile, aoi_tile, alert_filter_tile, analysis_tile, overview_tile]"
   ]
  },
  {
   "cell_type": "code",
   "execution_count": null,
   "metadata": {},
   "outputs": [],
   "source": [
    "# create a drawer for each group of tile\n",
    "# fmt: off\n",
    "items = [\n",
    "    sw.DrawerItem(cm.app.drawer_item.about, \"fa-solid fa-question-circle\", card=\"about_tile\"),\n",
    "    sw.DrawerItem(\"Recipes\", \"fa-solid fa-folder-open\", card=\"recipe_tile\"),\n",
    "    sw.DrawerItem(\"Optional files\", \"fa-solid fa-gear\", card=\"aux_tile\"),\n",
    "    sw.DrawerItem(\"AOI/Date\", \"fa-solid fa-globe\", card=\"aoi_tile\"),\n",
    "    sw.DrawerItem(\"Filter\", \"fa-solid fa-filter\", card=\"filter_alerts\"),\n",
    "    sw.DrawerItem(\"Analysis\", \"fa-solid fa-pen\", card=\"analysis_tile\"),\n",
    "    sw.DrawerItem(\"Overview\", \"fa-solid fa-map-location-dot\", card=\"overview_tile\"),\n",
    "]\n",
    "# fmt: on\n",
    "\n",
    "# Add the links to the code, wiki and issue tracker of your\n",
    "code_link = \"https://github.com/SerafiniJose/defoAlerts/\"\n",
    "wiki_link = \"https://github.com/SerafiniJose/defoAlerts/blob/master/doc/en.rst\"\n",
    "issue_link = \"https://github.com/SerafiniJose/defoAlerts/issues/new\"\n",
    "\n",
    "# Create the side drawer with all its components\n",
    "app_drawer = sw.NavDrawer(items=items, code=code_link, wiki=wiki_link, issue=issue_link)"
   ]
  },
  {
   "cell_type": "code",
   "execution_count": null,
   "metadata": {},
   "outputs": [],
   "source": [
    "# build the Html final app by gathering everything\n",
    "app = sw.App(\n",
    "    tiles=app_content,\n",
    "    appBar=app_bar,\n",
    "    navDrawer=app_drawer,\n",
    "    translator=cm,\n",
    ")"
   ]
  },
  {
   "cell_type": "code",
   "execution_count": null,
   "metadata": {},
   "outputs": [],
   "source": [
    "# display the app\n",
    "app.show_tile(\"about_tile\")#.add_banner(cm.app.banner)"
   ]
  },
  {
   "cell_type": "code",
   "execution_count": null,
   "metadata": {},
   "outputs": [],
   "source": []
  }
 ],
 "metadata": {
  "kernelspec": {
   "display_name": "(test) test-Deforestation_Alerts_Analysis",
   "language": "python",
   "name": "test-deforestation_alerts_analysis"
  },
  "language_info": {
   "codemirror_mode": {
    "name": "ipython",
    "version": 3
   },
   "file_extension": ".py",
   "mimetype": "text/x-python",
   "name": "python",
   "nbconvert_exporter": "python",
   "pygments_lexer": "ipython3",
   "version": "3.10.12"
  },
  "voila": {
   "theme": "dark"
  }
 },
 "nbformat": 4,
 "nbformat_minor": 4
}
