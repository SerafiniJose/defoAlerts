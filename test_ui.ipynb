{
 "cells": [
  {
   "cell_type": "code",
   "execution_count": null,
   "id": "4b7c5531-2061-4131-a661-bb026015497e",
   "metadata": {},
   "outputs": [],
   "source": [
    "%load_ext autoreload\n",
    "%autoreload 2"
   ]
  },
  {
   "cell_type": "code",
   "execution_count": null,
   "id": "b760d930-e5b8-4ae7-aef8-f816d7235071",
   "metadata": {
    "scrolled": true
   },
   "outputs": [],
   "source": [
    "from sepal_ui import sepalwidgets as sw\n",
    "from sepal_ui.frontend.resize_trigger import ResizeTrigger\n",
    "from component.message import cm\n",
    "#Import models\n",
    "from component.model.aoi_date_model import AoiDateModel\n",
    "from component.model.aux_model import AuxModel\n",
    "from component.model.alerts_model import AlertFilterModel, SelectedAlertsModel\n",
    "from component.model.analysis_model import AlertAnalysisModel\n",
    "from component.model.app_model import AppTileModel\n",
    "#Import tiles\n",
    "from component.tile.aoi_tile import AoiTile\n",
    "from component.tile.aux_tile import AuxTile\n",
    "from component.tile.recipe_tile import RecipeTile\n",
    "from component.tile.alerts_filter_tile import AlertsFilterTile\n",
    "from component.tile.overview_tile import OverviewTile\n",
    "from component.tile.analysis_tile import AnalysisTile\n",
    "\n",
    "#Import custom App\n",
    "from component.widget.custom_sw import CustomApp, CustomDrawerItem, CustomAppBar\n",
    "# link tiles and models\n",
    "from traitlets import Any, HasTraits, Unicode, link, observe\n",
    "\n",
    "# Create an appBar\n",
    "app_bar = CustomAppBar(cm.app.title, cm)\n",
    "\n",
    "#Create models\n",
    "aux_model = AuxModel()\n",
    "aoi_date_model = AoiDateModel()\n",
    "alert_filter_model = AlertFilterModel()\n",
    "selected_alerts_model = SelectedAlertsModel()\n",
    "analyzed_alerts_model = AlertAnalysisModel()\n",
    "app_tile_model = AppTileModel()\n",
    "\n",
    "#Create tiles\n",
    "aux_tile = AuxTile(aux_model)\n",
    "aoi_tile = AoiTile(aoi_date_model, alert_filter_model, aux_model, app_tile_model)\n",
    "alert_filter_tile = AlertsFilterTile(aoi_date_model, aux_model, alert_filter_model, selected_alerts_model, analyzed_alerts_model, app_tile_model)\n",
    "analysis_tile = AnalysisTile(aux_model, selected_alerts_model, analyzed_alerts_model, app_tile_model)\n",
    "overview_tile = OverviewTile(aoi_date_model, analyzed_alerts_model, selected_alerts_model, app_tile_model)\n",
    "recipe_tile = RecipeTile(aux_model , aoi_date_model, alert_filter_model, selected_alerts_model, analyzed_alerts_model, app_tile_model, aux_tile, aoi_tile, alert_filter_tile, analysis_tile, overview_tile)\n",
    "about_tile = sw.TileAbout(f\"utils/{cm.about.pathname}\")\n",
    "disclaimer_tile = sw.TileDisclaimer()\n",
    "\n",
    "\n",
    "#Link maps\n",
    "link((aoi_tile.map_1, \"center\"), (alert_filter_tile.map_1, \"center\"))\n",
    "link((aoi_tile.map_1, \"zoom\"), (alert_filter_tile.map_1, \"zoom\"))\n",
    "link((aoi_tile.map_1, \"center\"), (overview_tile.map_1, \"center\"))\n",
    "link((aoi_tile.map_1, \"zoom\"), (overview_tile.map_1, \"zoom\"))\n",
    "\n",
    "# Gather all the partial tiles that you created previously\n",
    "app_content = [about_tile, disclaimer_tile, recipe_tile, aux_tile, aoi_tile, alert_filter_tile, analysis_tile, overview_tile]\n",
    "# create a drawer for each group of tile\n",
    "# fmt: off\n",
    "items = [\n",
    "    CustomDrawerItem(app_tile_model, title = cm.app.drawer_item.about, icon = \"fa-solid fa-question-circle\", card=\"about_tile\"),\n",
    "    CustomDrawerItem(app_tile_model, title = \"Recipes\", icon = \"fa-solid fa-folder-open\", card=\"recipe_tile\"),\n",
    "    CustomDrawerItem(app_tile_model, title = \"Optional files\", icon = \"fa-solid fa-gear\", card=\"aux_tile\"),\n",
    "    CustomDrawerItem(app_tile_model, title = \"AOI/Date\", icon = \"fa-solid fa-globe\", card=\"aoi_tile\"),\n",
    "    CustomDrawerItem(app_tile_model, title = \"Filter\", icon = \"fa-solid fa-filter\", card=\"filter_alerts\"),\n",
    "    CustomDrawerItem(app_tile_model, title = \"Overview\", icon = \"fa-solid fa-map-location-dot\", card=\"overview_tile\"),\n",
    "    CustomDrawerItem(app_tile_model, title = \"Analysis\", icon = \"fa-solid fa-pen\", card=\"analysis_tile\"),\n",
    "]\n",
    "# fmt: on\n",
    "\n",
    "# Add the links to the code, wiki and issue tracker of your\n",
    "code_link = \"https://github.com/SerafiniJose/defoAlerts/\"\n",
    "wiki_link = \"https://github.com/SerafiniJose/defoAlerts/blob/master/doc/en.rst\"\n",
    "issue_link = \"https://github.com/SerafiniJose/defoAlerts/issues/new\"\n",
    "\n",
    "# Create the side drawer with all its components\n",
    "app_drawer = sw.NavDrawer(items=items, code=code_link, wiki=wiki_link, issue=issue_link)\n",
    "# build the Html final app by gathering everything\n",
    "app = CustomApp(\n",
    "    app_tile_model,\n",
    "    tiles=app_content,\n",
    "    appBar=app_bar,\n",
    "    navDrawer=app_drawer,\n",
    "    translator=cm,\n",
    ")\n",
    "###"
   ]
  },
  {
   "cell_type": "code",
   "execution_count": null,
   "id": "efceb6ba-ae72-491f-b6c0-573d5e5d81b7",
   "metadata": {},
   "outputs": [],
   "source": [
    "#recipe_tile"
   ]
  },
  {
   "cell_type": "code",
   "execution_count": null,
   "id": "6e745320-893c-4a6a-91de-a67ccafd9447",
   "metadata": {},
   "outputs": [],
   "source": [
    "#analysis_tile"
   ]
  },
  {
   "cell_type": "code",
   "execution_count": null,
   "id": "4a74dfe3-a5ab-4775-a2e6-27069b7c8100",
   "metadata": {},
   "outputs": [],
   "source": [
    "#from sepal_ui.scripts import utils as su\n",
    "#su.create_download_link??"
   ]
  },
  {
   "cell_type": "code",
   "execution_count": null,
   "id": "c15576a1-8f76-49fc-bec2-a1625ab084b4",
   "metadata": {},
   "outputs": [],
   "source": [
    "# from sepal_ui import color\n",
    "# color"
   ]
  },
  {
   "cell_type": "code",
   "execution_count": null,
   "id": "2110fbe3-fc4f-4f0a-bbcd-2a57f2a45167",
   "metadata": {},
   "outputs": [],
   "source": [
    "# import ipyvuetify as v\n",
    "\n",
    "# # Function to handle key-modified clicks\n",
    "# def on_modified_click(widget, event, data):\n",
    "#     #print(event, data)\n",
    "#     if data.get('ctrlKey', False):  # Check if Ctrl key was pressed\n",
    "#         print(\"Ctrl + Click detected!\")\n",
    "#     elif data.get('shiftKey', False):  # Check if Shift key was pressed\n",
    "#         print(\"Shift + Click detected!\")\n",
    "#     else:\n",
    "#         print(\"Regular click detected.\")\n",
    "# # \n",
    "# # Create a button\n",
    "# button = v.Btn(children=[\"Click with Modifiers\"], color=\"primary\")\n",
    "\n",
    "# # Attach the event handler for the click event\n",
    "# button.on_event('click', on_modified_click)\n",
    "\n",
    "# button\n"
   ]
  }
 ],
 "metadata": {
  "kernelspec": {
   "display_name": "Python 3",
   "language": "python",
   "name": "python3"
  },
  "language_info": {
   "codemirror_mode": {
    "name": "ipython",
    "version": 3
   },
   "file_extension": ".py",
   "mimetype": "text/x-python",
   "name": "python",
   "nbconvert_exporter": "python",
   "pygments_lexer": "ipython3",
   "version": "3.10.12"
  }
 },
 "nbformat": 4,
 "nbformat_minor": 5
}
