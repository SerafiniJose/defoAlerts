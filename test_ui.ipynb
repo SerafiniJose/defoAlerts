{
 "cells": [
  {
   "cell_type": "code",
   "execution_count": null,
   "id": "4b7c5531-2061-4131-a661-bb026015497e",
   "metadata": {},
   "outputs": [],
   "source": [
    "%load_ext autoreload\n",
    "%autoreload 2"
   ]
  },
  {
   "cell_type": "code",
   "execution_count": null,
   "id": "b760d930-e5b8-4ae7-aef8-f816d7235071",
   "metadata": {
    "scrolled": true
   },
   "outputs": [],
   "source": [
    "from sepal_ui import sepalwidgets as sw\n",
    "from sepal_ui.frontend.resize_trigger import ResizeTrigger\n",
    "from component.message import cm\n",
    "#Import models\n",
    "from component.model.aoi_date_model import AoiDateModel\n",
    "from component.model.aux_model import AuxModel\n",
    "from component.model.alerts_model import AlertFilterModel, SelectedAlertsModel\n",
    "from component.model.analysis_model import AlertAnalysisModel\n",
    "from component.model.app_model import AppTileModel\n",
    "#Import tiles\n",
    "from component.tile.aoi_tile import AoiTile\n",
    "from component.tile.aux_tile import AuxTile\n",
    "from component.tile.recipe_tile import RecipeTile\n",
    "from component.tile.alerts_filter_tile import AlertsFilterTile\n",
    "from component.tile.overview_tile import OverviewTile\n",
    "from component.tile.analysis_tile import AnalysisTile\n",
    "\n",
    "#Import custom App\n",
    "from component.widget.custom_sw import CustomApp, CustomDrawerItem, CustomAppBar\n",
    "# link tiles and models\n",
    "from traitlets import Any, HasTraits, Unicode, link, observe\n",
    "\n",
    "# Create an appBar\n",
    "app_bar = CustomAppBar(cm.app.title, cm)\n",
    "\n",
    "#Create models\n",
    "aux_model = AuxModel()\n",
    "aoi_date_model = AoiDateModel()\n",
    "alert_filter_model = AlertFilterModel()\n",
    "selected_alerts_model = SelectedAlertsModel()\n",
    "analyzed_alerts_model = AlertAnalysisModel()\n",
    "app_tile_model = AppTileModel()\n",
    "\n",
    "#Create tiles\n",
    "aux_tile = AuxTile(aux_model)\n",
    "aoi_tile = AoiTile(aoi_date_model, alert_filter_model, aux_model, app_tile_model)\n",
    "alert_filter_tile = AlertsFilterTile(aoi_date_model, aux_model, alert_filter_model, selected_alerts_model, analyzed_alerts_model, app_tile_model)\n",
    "analysis_tile = AnalysisTile(aux_model, selected_alerts_model, analyzed_alerts_model, app_tile_model)\n",
    "overview_tile = OverviewTile(aoi_date_model, analyzed_alerts_model, selected_alerts_model, app_tile_model)\n",
    "recipe_tile = RecipeTile(aux_model , aoi_date_model, alert_filter_model, selected_alerts_model, analyzed_alerts_model, app_tile_model, aux_tile, aoi_tile, alert_filter_tile, analysis_tile, overview_tile)\n",
    "about_tile = sw.TileAbout(f\"utils/{cm.about.pathname}\")\n",
    "disclaimer_tile = sw.TileDisclaimer()\n",
    "\n",
    "\n",
    "#Link maps\n",
    "link((aoi_tile.map_1, \"center\"), (alert_filter_tile.map_1, \"center\"))\n",
    "link((aoi_tile.map_1, \"zoom\"), (alert_filter_tile.map_1, \"zoom\"))\n",
    "link((aoi_tile.map_1, \"center\"), (overview_tile.map_1, \"center\"))\n",
    "link((aoi_tile.map_1, \"zoom\"), (overview_tile.map_1, \"zoom\"))\n",
    "\n",
    "# Gather all the partial tiles that you created previously\n",
    "app_content = [about_tile, disclaimer_tile, recipe_tile, aux_tile, aoi_tile, alert_filter_tile, analysis_tile, overview_tile]\n",
    "# create a drawer for each group of tile\n",
    "# fmt: off\n",
    "items = [\n",
    "    CustomDrawerItem(app_tile_model, title = cm.app.drawer_item.about, icon = \"fa-solid fa-question-circle\", card=\"about_tile\"),\n",
    "    CustomDrawerItem(app_tile_model, title = \"Recipes\", icon = \"fa-solid fa-folder-open\", card=\"recipe_tile\"),\n",
    "    CustomDrawerItem(app_tile_model, title = \"Optional files\", icon = \"fa-solid fa-gear\", card=\"aux_tile\"),\n",
    "    CustomDrawerItem(app_tile_model, title = \"AOI/Date\", icon = \"fa-solid fa-globe\", card=\"aoi_tile\"),\n",
    "    CustomDrawerItem(app_tile_model, title = \"Filter\", icon = \"fa-solid fa-filter\", card=\"filter_alerts\"),\n",
    "    CustomDrawerItem(app_tile_model, title = \"Overview\", icon = \"fa-solid fa-map-location-dot\", card=\"overview_tile\"),\n",
    "    CustomDrawerItem(app_tile_model, title = \"Analysis\", icon = \"fa-solid fa-pen\", card=\"analysis_tile\"),\n",
    "]\n",
    "# fmt: on\n",
    "\n",
    "# Add the links to the code, wiki and issue tracker of your\n",
    "code_link = \"https://github.com/SerafiniJose/defoAlerts/\"\n",
    "wiki_link = \"https://github.com/SerafiniJose/defoAlerts/blob/master/doc/en.rst\"\n",
    "issue_link = \"https://github.com/SerafiniJose/defoAlerts/issues/new\"\n",
    "\n",
    "# Create the side drawer with all its components\n",
    "app_drawer = sw.NavDrawer(items=items, code=code_link, wiki=wiki_link, issue=issue_link)\n",
    "# build the Html final app by gathering everything\n",
    "app = CustomApp(\n",
    "    app_tile_model,\n",
    "    tiles=app_content,\n",
    "    appBar=app_bar,\n",
    "    navDrawer=app_drawer,\n",
    "    translator=cm,\n",
    ")\n",
    "###"
   ]
  },
  {
   "cell_type": "code",
   "execution_count": null,
   "id": "efceb6ba-ae72-491f-b6c0-573d5e5d81b7",
   "metadata": {},
   "outputs": [],
   "source": [
    "#recipe_tile"
   ]
  },
  {
   "cell_type": "code",
   "execution_count": null,
   "id": "6e745320-893c-4a6a-91de-a67ccafd9447",
   "metadata": {},
   "outputs": [],
   "source": [
    "#analysis_tile"
   ]
  },
  {
   "cell_type": "code",
   "execution_count": null,
   "id": "4a74dfe3-a5ab-4775-a2e6-27069b7c8100",
   "metadata": {},
   "outputs": [],
   "source": [
    "#from sepal_ui.scripts import utils as su\n",
    "#su.create_download_link??"
   ]
  },
  {
   "cell_type": "code",
   "execution_count": null,
   "id": "c15576a1-8f76-49fc-bec2-a1625ab084b4",
   "metadata": {},
   "outputs": [],
   "source": [
    "# from sepal_ui import color\n",
    "# color"
   ]
  },
  {
   "cell_type": "code",
   "execution_count": null,
   "id": "2110fbe3-fc4f-4f0a-bbcd-2a57f2a45167",
   "metadata": {},
   "outputs": [],
   "source": [
    "# import ipyvuetify as v\n",
    "\n",
    "# # Function to handle key-modified clicks\n",
    "# def on_modified_click(widget, event, data):\n",
    "#     #print(event, data)\n",
    "#     if data.get('ctrlKey', False):  # Check if Ctrl key was pressed\n",
    "#         print(\"Ctrl + Click detected!\")\n",
    "#     elif data.get('shiftKey', False):  # Check if Shift key was pressed\n",
    "#         print(\"Shift + Click detected!\")\n",
    "#     else:\n",
    "#         print(\"Regular click detected.\")\n",
    "# # \n",
    "# # Create a button\n",
    "# button = v.Btn(children=[\"Click with Modifiers\"], color=\"primary\")\n",
    "\n",
    "# # Attach the event handler for the click event\n",
    "# button.on_event('click', on_modified_click)\n",
    "\n",
    "# button\n"
   ]
  },
  {
   "cell_type": "code",
   "execution_count": 1,
   "id": "2db00dc1-850e-4648-8a9a-88812b041f0c",
   "metadata": {},
   "outputs": [
    {
     "data": {
      "text/html": [
       "<style>/*******************************************************************************\n",
       " * Customization of the provided css from the different libs used by sepal_ui\n",
       " */\n",
       "\n",
       "/* replace the map panel elements on top */\n",
       ".leaflet-pane,\n",
       ".leaflet-top,\n",
       ".leaflet-bottom {\n",
       "  z-index: 2 !important;\n",
       "}\n",
       "\n",
       "/* remove the shadow from the widgets on the maps */\n",
       ".leaflet-widgetcontrol {\n",
       "  box-shadow: none;\n",
       "}\n",
       "\n",
       "/* remove extra padding on top of the content */\n",
       "main.v-content {\n",
       "  padding-top: 0px !important;\n",
       "}\n",
       "\n",
       ".v-alert__wrapper .progress {\n",
       "  background-color: transparent;\n",
       "}\n",
       "\n",
       "/* set the bar on top of the map (800) when set to fullscreen */\n",
       "header.v-app-bar {\n",
       "  z-index: 800 !important;\n",
       "}\n",
       "\n",
       "/* set the menu_content on top of the map when it's set to fullscreen */\n",
       ".v-menu__content {\n",
       "  max-width: 100% !important;\n",
       "  z-index: 801 !important;\n",
       "}\n",
       "\n",
       "/* make sure navigation drawers are always visible when they exist */\n",
       "nav.v-navigation-drawer {\n",
       "  z-index: 900 !important;\n",
       "}\n",
       "\n",
       "/* create extra position for the leaflet map controls */\n",
       ".leaflet-center {\n",
       "  left: 50%;\n",
       "  transform: translate(-50%, 0%);\n",
       "}\n",
       "\n",
       ".leaflet-middle {\n",
       "  top: 50%;\n",
       "  position: absolute;\n",
       "  z-index: 1000;\n",
       "  pointer-events: none;\n",
       "  transform: translate(0%, -50%);\n",
       "}\n",
       "\n",
       ".leaflet-center.leaflet-middle {\n",
       "  transform: translate(-50%, -50%);\n",
       "}\n",
       "\n",
       "/* create extra classes to customize the layer_control table */\n",
       ".v-no-hover:hover {\n",
       "  background-color: transparent !important;\n",
       "}\n",
       "\n",
       ".v-no-border tbody tr td,\n",
       ".v-no-border tbody tr th {\n",
       "  border: none !important;\n",
       "}\n",
       "\n",
       "/* extra css rules to make the messages disappear beneath the SimpleSlider */\n",
       ".v-no-messages .v-messages {\n",
       "  display: none;\n",
       "}\n",
       "\n",
       ".v-no-messages .v-input__slot {\n",
       "  margin-bottom: 0;\n",
       "}\n",
       "\n",
       "/* specific css for the btn placed on maps */\n",
       ".v-btn.v-size--default.v-map-btn:not(.v-btn--round) {\n",
       "  padding: 0px;\n",
       "  min-width: 0px;\n",
       "  width: 30px;\n",
       "  height: 30px;\n",
       "}\n",
       "\n",
       "/* add specific css for the zoom btn of the map */\n",
       ".v-btn.v-zoom-plus {\n",
       "  border-bottom-left-radius: 0;\n",
       "  border-bottom-right-radius: 0;\n",
       "}\n",
       "\n",
       ".v-btn.v-zoom-minus {\n",
       "  margin-top: -1px;\n",
       "  border-top-left-radius: 0;\n",
       "  border-top-right-radius: 0;\n",
       "}\n",
       "\n",
       "/* css rules for fullscreen menus */\n",
       ".v-card.v-menu-fullscreen {\n",
       "  width: calc(100vw - 80px);\n",
       "  height: calc(100vh - 20px);\n",
       "}\n",
       "\n",
       "/* hide the disclaimer message placed on top of the ui notebook\n",
       " * the message will be displayed until the css is loaded */\n",
       "#loading-app {\n",
       "  display: none !important;\n",
       "}\n",
       "\n",
       "/* Related with https://github.com/12rambau/sepal_ui/issues/893 */\n",
       "#rendered_cells,\n",
       "#main {\n",
       "  contain: revert !important;\n",
       "  background-color: revert !important;\n",
       "}\n",
       "\n",
       "#jp-main-content-panel {\n",
       "  contain: revert !important;\n",
       "}\n",
       "\n",
       ".full-screen-map > .leaflet-container {\n",
       "  position: fixed !important;\n",
       "  width: 100vw;\n",
       "  height: calc(100vh - 48px);\n",
       "  z-index: 800;\n",
       "  bottom: 0;\n",
       "  left: 0;\n",
       "}\n",
       "</style>"
      ],
      "text/plain": [
       "<IPython.core.display.HTML object>"
      ]
     },
     "metadata": {},
     "output_type": "display_data"
    },
    {
     "data": {
      "text/html": [
       "<link rel=\"stylesheet\" href=\"https://cdnjs.cloudflare.com/ajax/libs/font-awesome/6.2.1/css/all.min.css\"/>"
      ],
      "text/plain": [
       "<IPython.core.display.HTML object>"
      ]
     },
     "metadata": {},
     "output_type": "display_data"
    },
    {
     "data": {
      "application/javascript": [
       "/*******************************************************************************\n",
       " * remove any links from fontawesome 5 created by jupyter in favor of\n",
       " * fontawesome 6. to be removed when Jupyter updates it\n",
       " */\n",
       "\n",
       "function remove_fa5() {\n",
       "  let links = document.querySelectorAll(\n",
       "    \"link[href^='https://cdn.jsdelivr.net/npm/@fortawesome/fontawesome-free@^5']\"\n",
       "  );\n",
       "\n",
       "  links.forEach((link) => link.remove());\n",
       "}\n",
       "\n",
       "if (document.readyState != \"loading\") remove_fa5();\n",
       "else document.addEventListener(\"DOMContentLoaded\", remove_fa5);\n"
      ],
      "text/plain": [
       "<IPython.core.display.Javascript object>"
      ]
     },
     "metadata": {},
     "output_type": "display_data"
    },
    {
     "data": {
      "application/vnd.jupyter.widget-view+json": {
       "model_id": "e9fb6190ea824d8b9ec27bda681839e8",
       "version_major": 2,
       "version_minor": 0
      },
      "text/plain": [
       "ResizeTrigger()"
      ]
     },
     "metadata": {},
     "output_type": "display_data"
    }
   ],
   "source": [
    "# from sepal_ui.mapping import SepalMap\n",
    "# from sepal_ui.mapping.draw_control import DrawControl\n"
   ]
  },
  {
   "cell_type": "code",
   "execution_count": 5,
   "id": "590f3ac0-ad6d-46dd-a96e-e9343c1accf6",
   "metadata": {},
   "outputs": [],
   "source": [
    "#map1 = SepalMap(dc= True)"
   ]
  },
  {
   "cell_type": "code",
   "execution_count": 6,
   "id": "4413d15f-8208-4fe9-b483-af4633559334",
   "metadata": {},
   "outputs": [
    {
     "data": {
      "application/vnd.jupyter.widget-view+json": {
       "model_id": "e5c3706804c9447ab68dfa16db2cad98",
       "version_major": 2,
       "version_minor": 0
      },
      "text/plain": [
       "SepalMap(center=[0, 0], controls=(ZoomControl(options=['position', 'transparent_bg'], position='topright', wid…"
      ]
     },
     "execution_count": 6,
     "metadata": {},
     "output_type": "execute_result"
    }
   ],
   "source": [
    "#map1"
   ]
  },
  {
   "cell_type": "code",
   "execution_count": 23,
   "id": "beb0edd6-d9b9-4aa4-9148-86944b581d99",
   "metadata": {},
   "outputs": [
    {
     "data": {
      "text/plain": [
       "(ZoomControl(options=['position', 'transparent_bg'], position='topright', widget=Layout(children=[MapBtn(attributes={'data-step': 1}, children=[Icon(children=['fa-solid fa-plus'], layout=None, small=True)], class_='v-map-btn v-zoom-plus', icon=False, layout=None, outlined=True), MapBtn(attributes={'data-step': -1}, children=[Icon(children=['fa-solid fa-minus'], layout=None, small=True)], class_='v-map-btn v-zoom-minus', icon=False, layout=None, outlined=True)], column=True, layout=None)),\n",
       " LayersControl(options=['position', 'transparent_bg'], position='topright', widget=Menu(bottom=True, children=[Card(children=[Tile(align_center=True, children=[RadioGroup(children=[SimpleTable(children=[Html(children=[HeaderRow(children=[Html(attributes={'colspan': 3}, children=['Basemaps'], layout=None, tag='th')], class_='v-no-hover', layout=None, tag='tr'), BaseRow(children=[Html(children=['CartoDB.Positron'], layout=None, style_='width: 40%;', tag='td'), Html(children=[''], layout=None, style_='width: 50%;', tag='td'), Html(children=[Radio(active=True, layout=None, value='CartoDB.Positron')], layout=None, tag='td')], layout=None, tag='tr'), Html(children=[Html(attributes={'colspan': 3}, children=[' '], layout=None, tag='td')], class_='v-no-hever', layout=None, tag='tr')], layout=None, tag='tbody')], class_='v-no-border', dense=True, layout=None)], layout=None, v_model='CartoDB.Positron')], class_='ma-0 d-inline', layout=None, row=True)], layout=None, max_width='400px', min_width='400px', style_='overflow: auto', tile=True)], close_delay=200.0, close_on_content_click=False, layout=None, left=True, offset_x=True, open_on_hover=True, right=False, top=False, v_model=False, v_slots=[{'name': 'activator', 'variable': 'menu', 'children': MapBtn(children=[Icon(children=['fa-solid fa-layer-group'], layout=None, small=True)], class_='v-map-btn', icon=False, layout=None, outlined=True, v_on='menu.on')}])),\n",
       " AttributionControl(options=['position', 'prefix'], position='bottomleft', prefix='SEPAL'),\n",
       " ScaleControl(imperial=False, options=['imperial', 'max_width', 'metric', 'position', 'update_when_idle'], position='bottomleft'),\n",
       " DrawControl(circle={'shapeOptions': {'color': '#2196F3'}}, data=[{'type': 'Feature', 'properties': {'style': {'pane': 'overlayPane', 'attribution': None, 'bubblingMouseEvents': True, 'fill': True, 'smoothFactor': 1, 'noClip': False, 'stroke': True, 'color': '#2196F3', 'weight': 4, 'opacity': 0.5, 'lineCap': 'round', 'lineJoin': 'round', 'dashArray': None, 'dashOffset': None, 'fillColor': None, 'fillOpacity': 0.2, 'fillRule': 'evenodd', 'interactive': True, 'clickable': True}}, 'geometry': {'type': 'Polygon', 'coordinates': [[[-56.583774, -16.047719], [-58.42945, -17.184673], [-56.473912, -18.210364], [-54.738098, -17.687784], [-54.606264, -16.511734], [-54.606264, -16.174377], [-54.825987, -15.751871], [-55.814742, -15.709572], [-56.276161, -16.005482], [-56.583774, -16.047719]]]}}, {'type': 'Feature', 'properties': {'style': {'stroke': True, 'color': '#2196F3', 'weight': 4, 'opacity': 0.5, 'fill': True, 'fillColor': None, 'fillOpacity': 0.2, 'clickable': True}}, 'geometry': {'type': 'Polygon', 'coordinates': [[[-58.473348, -19.492628], [-56.495838, -21.017996], [-57.308815, -21.836146], [-59.725771, -21.815748], [-61.000034, -21.36627], [-61.219755, -20.483769], [-60.97806, -20.133455], [-60.362834, -19.927019], [-59.879443, -19.8857], [-58.473348, -19.492628]]]}}], options=['position'], polygon={'shapeOptions': {'color': '#2196F3'}}, rectangle={'shapeOptions': {'color': '#2196F3'}}))"
      ]
     },
     "execution_count": 23,
     "metadata": {},
     "output_type": "execute_result"
    }
   ],
   "source": [
    "#map1.controls"
   ]
  }
 ],
 "metadata": {
  "kernelspec": {
   "display_name": "Python 3 (ipykernel)",
   "language": "python",
   "name": "python3"
  },
  "language_info": {
   "codemirror_mode": {
    "name": "ipython",
    "version": 3
   },
   "file_extension": ".py",
   "mimetype": "text/x-python",
   "name": "python",
   "nbconvert_exporter": "python",
   "pygments_lexer": "ipython3",
   "version": "3.10.12"
  }
 },
 "nbformat": 4,
 "nbformat_minor": 5
}
