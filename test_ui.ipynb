{
 "cells": [
  {
   "cell_type": "code",
   "execution_count": null,
   "id": "4b7c5531-2061-4131-a661-bb026015497e",
   "metadata": {},
   "outputs": [],
   "source": [
    "%load_ext autoreload\n",
    "%autoreload 2"
   ]
  },
  {
   "cell_type": "code",
   "execution_count": null,
   "id": "8d2b57d1-dc2e-42b9-bca7-1efd682bf475",
   "metadata": {},
   "outputs": [],
   "source": [
    "from component.model.aoi_date_model import AoiDateModel\n",
    "from component.model.aux_model import AuxModel\n",
    "from component.model.recipe_model import RecipeModel\n",
    "from component.model.alerts_model import AlertFilterModel, SelectedAlertsModel\n",
    "\n",
    "from component.tile.aoi_tile import AoiTile\n",
    "from component.tile.aux_tile import AuxTile\n",
    "from component.tile.recipe_tile import RecipeTile\n",
    "from component.tile.alerts_filter_tile import AlertsFilterTile\n",
    "from component.tile.review_tile import ReviewTile\n",
    "\n",
    "# link tiles and models\n",
    "from traitlets import Any, HasTraits, Unicode, link, observe"
   ]
  },
  {
   "cell_type": "code",
   "execution_count": null,
   "id": "940fa5b6-d354-40a1-b60d-c86d915a6b4b",
   "metadata": {},
   "outputs": [],
   "source": [
    "aoi_date_model = AoiDateModel()\n",
    "aoi_tile = AoiTile(aoi_date_model)"
   ]
  },
  {
   "cell_type": "code",
   "execution_count": null,
   "id": "b760d930-e5b8-4ae7-aef8-f816d7235071",
   "metadata": {
    "scrolled": true
   },
   "outputs": [],
   "source": [
    "aux_model = AuxModel()\n",
    "aux_tile = AuxTile(aux_model)"
   ]
  },
  {
   "cell_type": "code",
   "execution_count": null,
   "id": "ec2e9db9-51ef-46ac-9e35-a3f35bc19d3f",
   "metadata": {},
   "outputs": [],
   "source": [
    "recipe_model = RecipeModel()\n",
    "recipe_tile = RecipeTile(recipe_model)"
   ]
  },
  {
   "cell_type": "code",
   "execution_count": null,
   "id": "37c82722-1384-4e8c-8766-f5762c9d6a20",
   "metadata": {},
   "outputs": [],
   "source": [
    "alert_filter_model = AlertFilterModel()\n",
    "selected_alerts_model = SelectedAlertsModel()\n",
    "alert_filter_tile = AlertsFilterTile(aoi_date_model, aux_model, alert_filter_model, selected_alerts_model)"
   ]
  },
  {
   "cell_type": "code",
   "execution_count": null,
   "id": "fc54bfc4-42b2-4b82-85c0-d193db6d1189",
   "metadata": {},
   "outputs": [],
   "source": [
    "review_tile = ReviewTile(selected_alerts_model)"
   ]
  },
  {
   "cell_type": "code",
   "execution_count": null,
   "id": "b6456bb7-9e38-45a1-b3c4-4f264c3833c7",
   "metadata": {},
   "outputs": [],
   "source": [
    "import ipywidgets as widgets\n",
    "from sepal_ui.mapping import SepalMap\n",
    "from sepal_ui import sepalwidgets as sw\n",
    "\n",
    "#Map Objects\n",
    "map_31 = SepalMap()\n",
    "map_32 = SepalMap()\n",
    "\n",
    "aoi_layer =aoi_date_model.aoi\n",
    "\n",
    "if aoi_layer:\n",
    "    map_31.add_ee_layer(aoi_layer, {}, \"aoi\")\n",
    "if aoi_layer:\n",
    "    map_32.add_ee_layer(aoi_layer, {}, \"aoi\")\n",
    "\n",
    "# Link the zoom level between the two maps\n",
    "zoom_link = widgets.jslink((map_31, 'zoom'), (map_32, 'zoom'))\n",
    "\n",
    "# Link the center coordinates between the two maps\n",
    "center_link = widgets.jslink((map_31, 'center'), (map_32, 'center'))\n",
    "\n",
    "#Map label\n",
    "mapLabel1 = sw.Markdown('Image Before')\n",
    "mapLabel2 = sw.Markdown('Image After')\n",
    "\n",
    "\n",
    "#Add image Selection Button1\n",
    "imgBtn11 = sw.Btn(\"Planet Monthly\", color=\"primary\", outlined=True)\n",
    "imgBtn12 = sw.Btn(\"Sentinel 2\", color=\"primary\", outlined=True)\n",
    "imgBtn13 = sw.Btn(\"Planet Daily\", color=\"primary\", outlined=True)\n",
    "imgSelection1 = sw.Row(children=[imgBtn11, imgBtn12, imgBtn13])\n",
    "\n",
    "#Add image Selection Button2\n",
    "imgBtn21 = sw.Btn(\"Planet Monthly\", color=\"primary\", outlined=True)\n",
    "imgBtn22 = sw.Btn(\"Sentinel 2\", color=\"primary\", outlined=True)\n",
    "imgBtn23 = sw.Btn(\"Planet Daily\", color=\"primary\", outlined=True)\n",
    "imgSelection2 = sw.Row(children=[imgBtn21, imgBtn22, imgBtn23])\n",
    "\n",
    "# Create map with buttons1\n",
    "map31 = sw.Col(children=[mapLabel1, map_31, imgSelection1])\n",
    "\n",
    "# Create map with buttons2\n",
    "map32 = sw.Col(children=[mapLabel2, map_32, imgSelection2])\n",
    "\n",
    "\n",
    "label31 = sw.Markdown('Alert revision module')\n",
    "label32 = sw.Markdown('Keep alert?')\n",
    "button31 = sw.Btn(\"Yes\", color=\"primary\", outlined=True)\n",
    "button32 = sw.Btn(\"No\", color=\"primary\", outlined=True)\n",
    "label33 = sw.Markdown('Define alert')\n",
    "button33 = sw.Btn(\"Draw manually\", color=\"primary\", outlined=True)\n",
    "button34 = sw.Btn(\"Auto\", color=\"primary\", outlined=True)\n",
    "label34 = sw.Markdown('Description Field')\n",
    "comments_input = sw.TextField(label='Enter text here')\n",
    "button35 = sw.Btn(\"Previous\", color=\"primary\", outlined=True)\n",
    "button36 = sw.Btn(\"Next\", color=\"primary\", outlined=True)\n",
    "button37 = sw.DownloadBtn(text = \"Files\")\n",
    "button38 = sw.DownloadBtn(text = \"Report\")\n",
    "\n",
    "\n",
    "row31 = sw.Row(children=[button31, button32])\n",
    "row32 = sw.Row(children=[button33, button34])\n",
    "row33 = sw.Row(children=[button35, button36])\n",
    "row34 = sw.Row(children=[button37, button38])\n",
    "\n",
    "\n",
    "# Layout 3 de la aplicación\n",
    "layout3 = sw.Row(_metadata={\"mount_id\":\"analysis\"},children=[\n",
    "    sw.Col(children=[map31]),\n",
    "    sw.Col(children=[map32]),\n",
    "    sw.Col(children=[label31, label32, row31, label33, row32,  label34, comments_input, row33, row34]),\n",
    "])"
   ]
  }
 ],
 "metadata": {
  "kernelspec": {
   "display_name": "(test) test-Deforestation_Alerts_Analysis",
   "language": "python",
   "name": "test-deforestation_alerts_analysis"
  },
  "language_info": {
   "codemirror_mode": {
    "name": "ipython",
    "version": 3
   },
   "file_extension": ".py",
   "mimetype": "text/x-python",
   "name": "python",
   "nbconvert_exporter": "python",
   "pygments_lexer": "ipython3",
   "version": "3.10.12"
  }
 },
 "nbformat": 4,
 "nbformat_minor": 5
}
