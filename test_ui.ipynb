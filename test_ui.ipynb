{
 "cells": [
  {
   "cell_type": "code",
   "execution_count": null,
   "id": "4b7c5531-2061-4131-a661-bb026015497e",
   "metadata": {},
   "outputs": [],
   "source": [
    "%load_ext autoreload\n",
    "%autoreload 2"
   ]
  },
  {
   "cell_type": "code",
   "execution_count": null,
   "id": "8d2b57d1-dc2e-42b9-bca7-1efd682bf475",
   "metadata": {},
   "outputs": [],
   "source": [
    "#Import models\n",
    "from component.model.aoi_date_model import AoiDateModel\n",
    "from component.model.aux_model import AuxModel\n",
    "from component.model.recipe_model import RecipeModel\n",
    "from component.model.alerts_model import AlertFilterModel, SelectedAlertsModel\n",
    "from component.model.analysis_model import AlertAnalysisModel\n",
    "from component.model.app_model import AppTileModel\n",
    "\n",
    "#Import tiles\n",
    "from component.tile.aoi_tile import AoiTile\n",
    "from component.tile.aux_tile import AuxTile\n",
    "from component.tile.recipe_tile import RecipeTile\n",
    "from component.tile.alerts_filter_tile import AlertsFilterTile\n",
    "from component.tile.overview_tile import OverviewTile\n",
    "from component.tile.analysis_tile import AnalysisTile\n",
    "\n",
    "# link tiles and models\n",
    "from traitlets import Any, HasTraits, Unicode, link, observe"
   ]
  },
  {
   "cell_type": "code",
   "execution_count": null,
   "id": "02c78fdd-3e5c-406b-a61a-0f6bb8ced2cc",
   "metadata": {},
   "outputs": [],
   "source": [
    "# import os\n",
    "# import rasterio\n",
    "# import numpy as np"
   ]
  },
  {
   "cell_type": "code",
   "execution_count": null,
   "id": "3776986d-9340-4a22-8c6a-9e61fa2a76cb",
   "metadata": {},
   "outputs": [],
   "source": [
    "# import tensorflow as tf\n",
    "# from tensorflow.keras import layers, models\n",
    "# from tensorflow.keras import backend as K\n",
    "# from MightyMosaic import MightyMosaic\n",
    "# os.environ['TF_CPP_MIN_LOG_LEVEL'] = '1'"
   ]
  },
  {
   "cell_type": "code",
   "execution_count": null,
   "id": "b43cac73-2a77-448a-bba2-93578f8571e9",
   "metadata": {},
   "outputs": [],
   "source": [
    "#pip install geedim\n",
    "#pip install MightyMosaic"
   ]
  },
  {
   "cell_type": "code",
   "execution_count": null,
   "id": "b760d930-e5b8-4ae7-aef8-f816d7235071",
   "metadata": {
    "scrolled": true
   },
   "outputs": [],
   "source": [
    "aux_model = AuxModel()\n",
    "aux_tile = AuxTile(aux_model)"
   ]
  },
  {
   "cell_type": "code",
   "execution_count": null,
   "id": "ec2e9db9-51ef-46ac-9e35-a3f35bc19d3f",
   "metadata": {},
   "outputs": [],
   "source": [
    "recipe_model = RecipeModel()\n",
    "recipe_tile = RecipeTile(recipe_model)"
   ]
  },
  {
   "cell_type": "code",
   "execution_count": null,
   "id": "96acc269-8918-4621-a366-7d0e34d79225",
   "metadata": {},
   "outputs": [],
   "source": [
    "#recipe_tile"
   ]
  },
  {
   "cell_type": "code",
   "execution_count": null,
   "id": "d68e2781-2b71-4783-87fa-9e877855ace8",
   "metadata": {
    "scrolled": true
   },
   "outputs": [],
   "source": [
    "aux_tile"
   ]
  },
  {
   "cell_type": "code",
   "execution_count": null,
   "id": "940fa5b6-d354-40a1-b60d-c86d915a6b4b",
   "metadata": {},
   "outputs": [],
   "source": [
    "aoi_date_model = AoiDateModel()\n",
    "alert_filter_model = AlertFilterModel()\n",
    "selected_alerts_model = SelectedAlertsModel()\n",
    "analyzed_alerts_model = AlertAnalysisModel()\n",
    "app_tile_model = AppTileModel()\n"
   ]
  },
  {
   "cell_type": "code",
   "execution_count": null,
   "id": "e82f309d-1f96-48a6-aa17-1c1793920523",
   "metadata": {},
   "outputs": [],
   "source": [
    "aoi_tile = AoiTile(aoi_date_model, alert_filter_model, aux_model, app_tile_model)\n",
    "aoi_tile"
   ]
  },
  {
   "cell_type": "code",
   "execution_count": null,
   "id": "a8b50893-1b35-493f-a652-d9e00bf43d14",
   "metadata": {},
   "outputs": [],
   "source": [
    "alert_filter_tile = AlertsFilterTile(aoi_date_model, aux_model, alert_filter_model, selected_alerts_model)\n",
    "alert_filter_tile"
   ]
  },
  {
   "cell_type": "code",
   "execution_count": null,
   "id": "1ab0e8e6-b564-469d-a978-3ad12f6d1423",
   "metadata": {},
   "outputs": [],
   "source": [
    "overview_tile = OverviewTile(aoi_date_model, analyzed_alerts_model, selected_alerts_model)\n",
    "overview_tile"
   ]
  },
  {
   "cell_type": "code",
   "execution_count": null,
   "id": "2fe17e00-695e-463d-bd40-5998efdb2756",
   "metadata": {},
   "outputs": [],
   "source": [
    "analysis_tile = AnalysisTile(aux_model, selected_alerts_model, analyzed_alerts_model)\n",
    "analysis_tile"
   ]
  },
  {
   "cell_type": "code",
   "execution_count": null,
   "id": "31b23391-82be-4d1a-9349-0d0706439a45",
   "metadata": {},
   "outputs": [],
   "source": [
    "link((aoi_tile.map_1, \"center\"), (alert_filter_tile.map_2, \"center\"))\n",
    "link((aoi_tile.map_1, \"zoom\"), (alert_filter_tile.map_2, \"zoom\"))\n",
    "link((aoi_tile.map_1, \"center\"), (overview_tile.map_1, \"center\"))\n",
    "link((aoi_tile.map_1, \"zoom\"), (overview_tile.map_1, \"zoom\"))"
   ]
  },
  {
   "cell_type": "code",
   "execution_count": null,
   "id": "c992801d-a356-4136-aa09-be089e559ec5",
   "metadata": {},
   "outputs": [],
   "source": [
    "app_tile_model"
   ]
  }
 ],
 "metadata": {
  "kernelspec": {
   "display_name": "Python 3",
   "language": "python",
   "name": "python3"
  },
  "language_info": {
   "codemirror_mode": {
    "name": "ipython",
    "version": 3
   },
   "file_extension": ".py",
   "mimetype": "text/x-python",
   "name": "python",
   "nbconvert_exporter": "python",
   "pygments_lexer": "ipython3",
   "version": "3.10.12"
  }
 },
 "nbformat": 4,
 "nbformat_minor": 5
}
