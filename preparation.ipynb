{
 "cells": [
  {
   "cell_type": "code",
   "execution_count": 1,
   "id": "906da6ff-211a-4516-bc1e-30194e0ad37e",
   "metadata": {},
   "outputs": [],
   "source": [
    "%load_ext autoreload\n",
    "%autoreload 2"
   ]
  },
  {
   "cell_type": "code",
   "execution_count": 2,
   "id": "7f818e3a-702c-42ed-818c-209dd0438e39",
   "metadata": {},
   "outputs": [
    {
     "data": {
      "text/html": [
       "<style>/*******************************************************************************\n",
       " * Customization of the provided css from the different libs used by sepal_ui\n",
       " */\n",
       "\n",
       "/* replace the map panel elements on top */\n",
       ".leaflet-pane,\n",
       ".leaflet-top,\n",
       ".leaflet-bottom {\n",
       "  z-index: 2 !important;\n",
       "}\n",
       "\n",
       "/* remove the shadow from the widgets on the maps */\n",
       ".leaflet-widgetcontrol {\n",
       "  box-shadow: none;\n",
       "}\n",
       "\n",
       "/* remove extra padding on top of the content */\n",
       "main.v-content {\n",
       "  padding-top: 0px !important;\n",
       "}\n",
       "\n",
       ".v-alert__wrapper .progress {\n",
       "  background-color: transparent;\n",
       "}\n",
       "\n",
       "/* set the bar on top of the map (800) when set to fullscreen */\n",
       "header.v-app-bar {\n",
       "  z-index: 800 !important;\n",
       "}\n",
       "\n",
       "/* set the menu_content on top of the map when it's set to fullscreen */\n",
       ".v-menu__content {\n",
       "  max-width: 100% !important;\n",
       "  z-index: 801 !important;\n",
       "}\n",
       "\n",
       "/* make sure navigation drawers are always visible when they exist */\n",
       "nav.v-navigation-drawer {\n",
       "  z-index: 900 !important;\n",
       "}\n",
       "\n",
       "/* create extra position for the leaflet map controls */\n",
       ".leaflet-center {\n",
       "  left: 50%;\n",
       "  transform: translate(-50%, 0%);\n",
       "}\n",
       "\n",
       ".leaflet-middle {\n",
       "  top: 50%;\n",
       "  position: absolute;\n",
       "  z-index: 1000;\n",
       "  pointer-events: none;\n",
       "  transform: translate(0%, -50%);\n",
       "}\n",
       "\n",
       ".leaflet-center.leaflet-middle {\n",
       "  transform: translate(-50%, -50%);\n",
       "}\n",
       "\n",
       "/* create extra classes to customize the layer_control table */\n",
       ".v-no-hover:hover {\n",
       "  background-color: transparent !important;\n",
       "}\n",
       "\n",
       ".v-no-border tbody tr td,\n",
       ".v-no-border tbody tr th {\n",
       "  border: none !important;\n",
       "}\n",
       "\n",
       "/* extra css rules to make the messages disappear beneath the SimpleSlider */\n",
       ".v-no-messages .v-messages {\n",
       "  display: none;\n",
       "}\n",
       "\n",
       ".v-no-messages .v-input__slot {\n",
       "  margin-bottom: 0;\n",
       "}\n",
       "\n",
       "/* specific css for the btn placed on maps */\n",
       ".v-btn.v-size--default.v-map-btn:not(.v-btn--round) {\n",
       "  padding: 0px;\n",
       "  min-width: 0px;\n",
       "  width: 30px;\n",
       "  height: 30px;\n",
       "}\n",
       "\n",
       "/* add specific css for the zoom btn of the map */\n",
       ".v-btn.v-zoom-plus {\n",
       "  border-bottom-left-radius: 0;\n",
       "  border-bottom-right-radius: 0;\n",
       "}\n",
       "\n",
       ".v-btn.v-zoom-minus {\n",
       "  margin-top: -1px;\n",
       "  border-top-left-radius: 0;\n",
       "  border-top-right-radius: 0;\n",
       "}\n",
       "\n",
       "/* css rules for fullscreen menus */\n",
       ".v-card.v-menu-fullscreen {\n",
       "  width: calc(100vw - 80px);\n",
       "  height: calc(100vh - 20px);\n",
       "}\n",
       "\n",
       "/* hide the disclaimer message placed on top of the ui notebook\n",
       " * the message will be displayed until the css is loaded */\n",
       "#loading-app {\n",
       "  display: none !important;\n",
       "}\n",
       "\n",
       "/* Related with https://github.com/12rambau/sepal_ui/issues/893 */\n",
       "#rendered_cells {\n",
       "  contain: revert !important;\n",
       "  background-color: revert !important;\n",
       "}\n",
       "\n",
       ".full-screen-map > .leaflet-container {\n",
       "  position: fixed !important;\n",
       "  width: 100vw;\n",
       "  height: calc(100vh - 48px);\n",
       "  z-index: 800;\n",
       "  bottom: 0;\n",
       "  left: 0;\n",
       "}\n",
       "</style>"
      ],
      "text/plain": [
       "<IPython.core.display.HTML object>"
      ]
     },
     "metadata": {},
     "output_type": "display_data"
    },
    {
     "data": {
      "text/html": [
       "<link rel=\"stylesheet\" href=\"https://cdnjs.cloudflare.com/ajax/libs/font-awesome/6.2.1/css/all.min.css\"/>"
      ],
      "text/plain": [
       "<IPython.core.display.HTML object>"
      ]
     },
     "metadata": {},
     "output_type": "display_data"
    },
    {
     "data": {
      "application/javascript": [
       "/*******************************************************************************\n",
       " * remove any links from fontawesome 5 created by jupyter in favor of\n",
       " * fontawesome 6. to be removed when Jupyter updates it\n",
       " */\n",
       "\n",
       "function remove_fa5() {\n",
       "  let links = document.querySelectorAll(\n",
       "    \"link[href^='https://cdn.jsdelivr.net/npm/@fortawesome/fontawesome-free@^5']\"\n",
       "  );\n",
       "\n",
       "  links.forEach((link) => link.remove());\n",
       "}\n",
       "\n",
       "if (document.readyState != \"loading\") remove_fa5();\n",
       "else document.addEventListener(\"DOMContentLoaded\", remove_fa5);\n"
      ],
      "text/plain": [
       "<IPython.core.display.Javascript object>"
      ]
     },
     "metadata": {},
     "output_type": "display_data"
    },
    {
     "data": {
      "application/vnd.jupyter.widget-view+json": {
       "model_id": "3d85535f32b446b08e0413b651621e69",
       "version_major": 2,
       "version_minor": 0
      },
      "text/plain": [
       "ResizeTrigger()"
      ]
     },
     "metadata": {},
     "output_type": "display_data"
    }
   ],
   "source": [
    "from component.model.aoi_date_model import AoiDateModel\n",
    "from component.model.aux_model import AuxModel\n",
    "from component.model.recipe_model import RecipeModel\n",
    "from component.model.alerts_model import AlertFilterModel, SelectedAlertsModel\n",
    "\n",
    "from component.tile.aoi_tile import AoiTile\n",
    "from component.tile.aux_tile import AuxTile\n",
    "from component.tile.recipe_tile import RecipeTile\n",
    "from component.tile.alerts_filter_tile import AlertsFilterTile\n",
    "from component.tile.overview_tile import OverviewTile\n",
    "\n",
    "# link tiles and models\n",
    "\n",
    "from traitlets import Any, HasTraits, Unicode, link, observe\n",
    "import ipyvuetify as v"
   ]
  },
  {
   "cell_type": "code",
   "execution_count": 3,
   "id": "bad115a5-903c-41c1-a641-7832f00615bd",
   "metadata": {},
   "outputs": [],
   "source": [
    "#recipe_model = RecipeModel()\n",
    "#recipe_tile = RecipeTile(recipe_model)\n",
    "aoi_date_model = AoiDateModel()\n",
    "alert_filter_model = AlertFilterModel()\n",
    "selected_alerts_model = SelectedAlertsModel()\n",
    "aux_model = AuxModel()"
   ]
  },
  {
   "cell_type": "code",
   "execution_count": 4,
   "id": "670d7b21-7acc-4d97-90c0-03eb5f8b2043",
   "metadata": {
    "scrolled": true
   },
   "outputs": [
    {
     "data": {
      "application/vnd.jupyter.widget-view+json": {
       "model_id": "c052b5cd8e1649ef9a33031922c2ed3e",
       "version_major": 2,
       "version_minor": 0
      },
      "text/plain": [
       "AuxTile(children=[Row(children=[Col(children=[Card(children=[CardTitle(children=['CCDC Alerts Asset'], layout=…"
      ]
     },
     "execution_count": 4,
     "metadata": {},
     "output_type": "execute_result"
    }
   ],
   "source": [
    "aux_tile = AuxTile(aux_model)\n",
    "aux_tile"
   ]
  },
  {
   "cell_type": "code",
   "execution_count": 5,
   "id": "ada5f321-ad15-42d2-a6ae-dba439ef4678",
   "metadata": {},
   "outputs": [
    {
     "data": {
      "application/vnd.jupyter.widget-view+json": {
       "model_id": "9db9ba1536ce4aa8b06140ddf61ba154",
       "version_major": 2,
       "version_minor": 0
      },
      "text/plain": [
       "AoiTile(children=[Row(children=[Col(children=[SepalMap(center=[0, 0], controls=(ZoomControl(options=['position…"
      ]
     },
     "execution_count": 5,
     "metadata": {},
     "output_type": "execute_result"
    }
   ],
   "source": [
    "aoi_tile = AoiTile(aoi_date_model, alert_filter_model, aux_model)\n",
    "aoi_tile"
   ]
  },
  {
   "cell_type": "code",
   "execution_count": 6,
   "id": "8e51cddf-cb35-4f02-9c05-0a35ebee7393",
   "metadata": {},
   "outputs": [],
   "source": [
    "#aux_model, aoi_date_model, alert_filter_model, selected_alerts_model"
   ]
  },
  {
   "cell_type": "code",
   "execution_count": 7,
   "id": "6d07946e-5b49-47cd-8602-588b8fb2d0ec",
   "metadata": {
    "scrolled": true
   },
   "outputs": [
    {
     "data": {
      "application/vnd.jupyter.widget-view+json": {
       "model_id": "2d7ecbfaee0145d0894a14faaae373ea",
       "version_major": 2,
       "version_minor": 0
      },
      "text/plain": [
       "AlertsFilterTile(children=[Row(children=[Col(children=[SepalMap(center=[0, 0], controls=(ZoomControl(options=[…"
      ]
     },
     "execution_count": 7,
     "metadata": {},
     "output_type": "execute_result"
    }
   ],
   "source": [
    "alert_filter_tile = AlertsFilterTile(aoi_date_model, aux_model, alert_filter_model, selected_alerts_model)\n",
    "alert_filter_tile"
   ]
  },
  {
   "cell_type": "code",
   "execution_count": 8,
   "id": "bc78f0a6-5383-4d73-893b-e9ea4327efa0",
   "metadata": {},
   "outputs": [],
   "source": [
    "#selected_alerts_model"
   ]
  },
  {
   "cell_type": "code",
   "execution_count": 9,
   "id": "54c4ecd8-4763-41fa-a9d9-2df8719c2568",
   "metadata": {},
   "outputs": [
    {
     "ename": "TypeError",
     "evalue": "OverviewTile.__init__() missing 1 required positional argument: 'selected_alerts_model'",
     "output_type": "error",
     "traceback": [
      "\u001b[0;31m---------------------------------------------------------------------------\u001b[0m",
      "\u001b[0;31mTypeError\u001b[0m                                 Traceback (most recent call last)",
      "Cell \u001b[0;32mIn[9], line 1\u001b[0m\n\u001b[0;32m----> 1\u001b[0m overview_tile \u001b[38;5;241m=\u001b[39m \u001b[43mOverviewTile\u001b[49m\u001b[43m(\u001b[49m\u001b[43maoi_date_model\u001b[49m\u001b[43m,\u001b[49m\u001b[43m \u001b[49m\u001b[43mselected_alerts_model\u001b[49m\u001b[43m)\u001b[49m\n\u001b[1;32m      2\u001b[0m overview_tile\n",
      "\u001b[0;31mTypeError\u001b[0m: OverviewTile.__init__() missing 1 required positional argument: 'selected_alerts_model'"
     ]
    }
   ],
   "source": [
    "overview_tile = OverviewTile(aoi_date_model, selected_alerts_model)\n",
    "overview_tile"
   ]
  },
  {
   "cell_type": "code",
   "execution_count": null,
   "id": "2235f2e0-7128-47c8-bb5c-0355a81d70bc",
   "metadata": {},
   "outputs": [],
   "source": [
    "analysis_tile = AnalysisTile(selected_alerts_model)\n",
    "analysis_tile"
   ]
  },
  {
   "cell_type": "code",
   "execution_count": null,
   "id": "4c0e4b57-5b9a-4ae4-bd94-e9d1cc0dbf4b",
   "metadata": {},
   "outputs": [],
   "source": [
    "from sepal_ui.mapping import SepalMap\n",
    "test_map = SepalMap()\n",
    "from sepal_ui import sepalwidgets as sw\n",
    "from ipyleaflet import GeoJSON, GeoData"
   ]
  },
  {
   "cell_type": "markdown",
   "id": "f4b46617-fad0-47ef-b29d-ed7a0abadece",
   "metadata": {},
   "source": [
    "__dict__\n",
    "id(\n",
    "__mro__\n",
    "map_.centerObject?\n",
    "\n",
    "control = SplitMapControl(left_layer=left_layer, right_layer=right_layer)\n",
    "map.add(control).remove(control)"
   ]
  }
 ],
 "metadata": {
  "kernelspec": {
   "display_name": "(test) test-Deforestation_Alerts_Analysis",
   "language": "python",
   "name": "test-deforestation_alerts_analysis"
  },
  "language_info": {
   "codemirror_mode": {
    "name": "ipython",
    "version": 3
   },
   "file_extension": ".py",
   "mimetype": "text/x-python",
   "name": "python",
   "nbconvert_exporter": "python",
   "pygments_lexer": "ipython3",
   "version": "3.10.12"
  }
 },
 "nbformat": 4,
 "nbformat_minor": 5
}
