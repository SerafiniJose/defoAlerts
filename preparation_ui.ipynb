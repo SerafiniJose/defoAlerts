{
 "cells": [
  {
   "cell_type": "code",
   "execution_count": 42,
   "id": "c2f99731",
   "metadata": {},
   "outputs": [],
   "source": [
    "from sepal_ui.aoi import AoiModel"
   ]
  },
  {
   "cell_type": "code",
   "execution_count": 1,
   "id": "e688ae48-861a-4c7e-89cd-2e42e9c88798",
   "metadata": {},
   "outputs": [
    {
     "data": {
      "text/html": [
       "<style>/*******************************************************************************\n",
       " * Customization of the provided css from the different libs used by sepal_ui\n",
       " */\n",
       "\n",
       "/* replace the map panel elements on top */\n",
       ".leaflet-pane,\n",
       ".leaflet-top,\n",
       ".leaflet-bottom {\n",
       "  z-index: 2 !important;\n",
       "}\n",
       "\n",
       "/* remove the shadow from the widgets on the maps */\n",
       ".leaflet-widgetcontrol {\n",
       "  box-shadow: none;\n",
       "}\n",
       "\n",
       "/* remove extra padding on top of the content */\n",
       "main.v-content {\n",
       "  padding-top: 0px !important;\n",
       "}\n",
       "\n",
       "/* remove all the backgrounds from the controls and widget to be colored naturelly by the map */\n",
       ".leaflet-control-container .vuetify-styles .v-application {\n",
       "  background: rgb(0, 0, 0, 0);\n",
       "}\n",
       ".v-alert__wrapper .progress {\n",
       "  background-color: transparent;\n",
       "}\n",
       "\n",
       "/* set the bar on top of the map (800) when set to fullscreen */\n",
       "header.v-app-bar {\n",
       "  z-index: 800 !important;\n",
       "}\n",
       "\n",
       "/* set the menu_content on top of the map when it's set to fullscreen */\n",
       ".v-menu__content {\n",
       "  max-width: 100% !important;\n",
       "}\n",
       "\n",
       "/* make sure navigation drawers are always visible when they exist */\n",
       "nav.v-navigation-drawer {\n",
       "  z-index: 900 !important;\n",
       "}\n",
       "\n",
       "/* create extra position for the leaflet map controls */\n",
       ".leaflet-center {\n",
       "  left: 50%;\n",
       "  transform: translate(-50%, 0%);\n",
       "}\n",
       "\n",
       ".leaflet-middle {\n",
       "  top: 50%;\n",
       "  position: absolute;\n",
       "  z-index: 1000;\n",
       "  pointer-events: none;\n",
       "  transform: translate(0%, -50%);\n",
       "}\n",
       "\n",
       ".leaflet-center.leaflet-middle {\n",
       "  transform: translate(-50%, -50%);\n",
       "}\n",
       "\n",
       "/* create extra classes to customize the layer_control table */\n",
       ".v-no-hover:hover {\n",
       "  background-color: transparent !important;\n",
       "}\n",
       "\n",
       ".v-no-border tbody tr td,\n",
       ".v-no-border tbody tr th {\n",
       "  border: none !important;\n",
       "}\n",
       "\n",
       "/* extra css rules to make the messages disappear beneath the SimpleSlider */\n",
       ".v-no-messages .v-messages {\n",
       "  display: none;\n",
       "}\n",
       "\n",
       ".v-no-messages .v-input__slot {\n",
       "  margin-bottom: 0;\n",
       "}\n",
       "\n",
       "/* specific css for the btn placed on maps */\n",
       ".v-btn.v-size--default.v-map-btn:not(.v-btn--round) {\n",
       "  padding: 0px;\n",
       "  min-width: 0px;\n",
       "  width: 30px;\n",
       "  height: 30px;\n",
       "}\n",
       "\n",
       "/* add specific css for the zoom btn of the map */\n",
       ".v-btn.v-zoom-plus {\n",
       "  border-bottom-left-radius: 0;\n",
       "  border-bottom-right-radius: 0;\n",
       "}\n",
       "\n",
       ".v-btn.v-zoom-minus {\n",
       "  margin-top: -1px;\n",
       "  border-top-left-radius: 0;\n",
       "  border-top-right-radius: 0;\n",
       "}\n",
       "\n",
       "/* css rules for fullscreen menus */\n",
       ".v-card.v-menu-fullscreen {\n",
       "  width: calc(100vw - 80px);\n",
       "  height: calc(100vh - 20px);\n",
       "}\n",
       "\n",
       "/* hide the disclaimer message placed on top of the ui notebook\n",
       " * the message will be displayed until the css is loaded */\n",
       "#loading-app {\n",
       "  display: none !important;\n",
       "}\n",
       "\n",
       "/* Related with https://github.com/12rambau/sepal_ui/issues/893 */\n",
       "#rendered_cells {\n",
       "  contain: revert !important;\n",
       "  background-color: revert !important;\n",
       "}\n",
       "</style>"
      ],
      "text/plain": [
       "<IPython.core.display.HTML object>"
      ]
     },
     "metadata": {},
     "output_type": "display_data"
    },
    {
     "data": {
      "text/html": [
       "<link rel=\"stylesheet\" href=\"https://cdnjs.cloudflare.com/ajax/libs/font-awesome/6.2.1/css/all.min.css\"/>"
      ],
      "text/plain": [
       "<IPython.core.display.HTML object>"
      ]
     },
     "metadata": {},
     "output_type": "display_data"
    },
    {
     "data": {
      "application/javascript": [
       "/*******************************************************************************\n",
       " * remove any links from fontawesome 5 created by jupyter in favor of\n",
       " * fontawesome 6. to be removed when Jupyter updates it\n",
       " */\n",
       "\n",
       "function remove_fa5() {\n",
       "  let links = document.querySelectorAll(\n",
       "    \"link[href^='https://cdn.jsdelivr.net/npm/@fortawesome/fontawesome-free@^5']\"\n",
       "  );\n",
       "\n",
       "  links.forEach((link) => link.remove());\n",
       "}\n",
       "\n",
       "if (document.readyState != \"loading\") remove_fa5();\n",
       "else document.addEventListener(\"DOMContentLoaded\", remove_fa5);\n"
      ],
      "text/plain": [
       "<IPython.core.display.Javascript object>"
      ]
     },
     "metadata": {},
     "output_type": "display_data"
    },
    {
     "data": {
      "application/vnd.jupyter.widget-view+json": {
       "model_id": "f5b91da36cac48bdaae3f244054a36ae",
       "version_major": 2,
       "version_minor": 0
      },
      "text/plain": [
       "ResizeTrigger()"
      ]
     },
     "metadata": {},
     "output_type": "display_data"
    }
   ],
   "source": [
    "from sepal_ui.mapping import SepalMap\n",
    "map_31 = SepalMap()"
   ]
  },
  {
   "cell_type": "code",
   "execution_count": 3,
   "id": "faf042db-6927-4b69-ae2d-1ca819926ac2",
   "metadata": {},
   "outputs": [
    {
     "ename": "SyntaxError",
     "evalue": "invalid syntax (4002687751.py, line 1)",
     "output_type": "error",
     "traceback": [
      "\u001b[0;36m  Cell \u001b[0;32mIn[3], line 1\u001b[0;36m\u001b[0m\n\u001b[0;31m    map_31.add_ee_layer(?)\u001b[0m\n\u001b[0m                        ^\u001b[0m\n\u001b[0;31mSyntaxError\u001b[0m\u001b[0;31m:\u001b[0m invalid syntax\n"
     ]
    }
   ],
   "source": [
    "map_31.centerObject("
   ]
  },
  {
   "cell_type": "code",
   "execution_count": 43,
   "id": "1f18bbc4",
   "metadata": {},
   "outputs": [
    {
     "data": {
      "text/plain": [
       "mappingproxy({'__module__': 'sepal_ui.aoi.aoi_model',\n",
       "              '__annotations__': {'MAPPING': pathlib.Path,\n",
       "               'ASSET_SUFFIX': str,\n",
       "               'CUSTOM': str,\n",
       "               'ADMIN': str,\n",
       "               'METHODS': typing.Dict[str, typing.Dict[str, str]],\n",
       "               'method': traitlets.traitlets.Unicode,\n",
       "               'point_json': traitlets.traitlets.Dict,\n",
       "               'vector_json': traitlets.traitlets.Dict,\n",
       "               'geo_json': traitlets.traitlets.Dict,\n",
       "               'admin': traitlets.traitlets.Unicode,\n",
       "               'asset_name': traitlets.traitlets.Unicode,\n",
       "               'asset_json': traitlets.traitlets.Dict,\n",
       "               'name': traitlets.traitlets.Unicode,\n",
       "               'gee': bool,\n",
       "               'folder': typing.Union[str, pathlib.Path],\n",
       "               'default_vector': typing.Union[str, pathlib.Path, NoneType],\n",
       "               'default_admin': typing.Optional[str],\n",
       "               'default_asset': typing.Optional[str],\n",
       "               'dst_asset_id': str,\n",
       "               'selected_feature': typing.Union[ee.feature.Feature, geopandas.geodataframe.GeoDataFrame, NoneType],\n",
       "               'gdf': typing.Optional[geopandas.geodataframe.GeoDataFrame],\n",
       "               'feature_collection': typing.Optional[ee.featurecollection.FeatureCollection],\n",
       "               'ipygeojson': typing.Optional[ipyleaflet.leaflet.GeoJSON]},\n",
       "              'MAPPING': PosixPath('/usr/local/lib/python3.10/dist-packages/sepal_ui/data/gaul_iso.json'),\n",
       "              'ASSET_SUFFIX': 'aoi_',\n",
       "              'CUSTOM': 'Custom geometries',\n",
       "              'ADMIN': 'Administrative definitions',\n",
       "              'METHODS': {'ADMIN0': {'name': 'Country/Province',\n",
       "                'type': 'Administrative definitions'},\n",
       "               'ADMIN1': {'name': 'Admin level 1',\n",
       "                'type': 'Administrative definitions'},\n",
       "               'ADMIN2': {'name': 'Admin level 2',\n",
       "                'type': 'Administrative definitions'},\n",
       "               'SHAPE': {'name': 'Vector file', 'type': 'Custom geometries'},\n",
       "               'DRAW': {'name': 'Drawn shapes', 'type': 'Custom geometries'},\n",
       "               'POINTS': {'name': 'Point file', 'type': 'Custom geometries'},\n",
       "               'ASSET': {'name': 'GEE Asset name',\n",
       "                'type': 'Custom geometries'}},\n",
       "              'method': <traitlets.traitlets.Unicode at 0x7ff89f4b9780>,\n",
       "              'point_json': <traitlets.traitlets.Dict at 0x7ff89de624a0>,\n",
       "              'vector_json': <traitlets.traitlets.Dict at 0x7ff89d841db0>,\n",
       "              'geo_json': <traitlets.traitlets.Dict at 0x7ff89d841e10>,\n",
       "              'admin': <traitlets.traitlets.Unicode at 0x7ff89d841e70>,\n",
       "              'asset_name': <traitlets.traitlets.Unicode at 0x7ff89d841ea0>,\n",
       "              'asset_json': <traitlets.traitlets.Dict at 0x7ff89d841ed0>,\n",
       "              'name': <traitlets.traitlets.Unicode at 0x7ff89d841f00>,\n",
       "              'gee': True,\n",
       "              'folder': '',\n",
       "              'default_vector': None,\n",
       "              'default_admin': None,\n",
       "              'default_asset': None,\n",
       "              'dst_asset_id': '',\n",
       "              'selected_feature': None,\n",
       "              'gdf': None,\n",
       "              'feature_collection': None,\n",
       "              'ipygeojson': None,\n",
       "              '__init__': <function sepal_ui.aoi.aoi_model.AoiModel.__init__(self, gee: bool = True, vector: Union[str, pathlib.Path, NoneType] = None, asset: Union[str, pathlib.Path, NoneType] = None, admin: Optional[str] = None, folder: Union[str, pathlib.Path] = '') -> None>,\n",
       "              'set_default': <function sepal_ui.aoi.aoi_model.AoiModel.set_default(self, vector: Union[str, pathlib.Path, NoneType] = None, admin: Optional[str] = None, asset: Union[str, pathlib.Path, NoneType] = None) -> typing_extensions.Self>,\n",
       "              'set_object': <function sepal_ui.aoi.aoi_model.AoiModel.set_object(self, method: str = '') -> typing_extensions.Self>,\n",
       "              '_from_asset': <function sepal_ui.aoi.aoi_model.AoiModel._from_asset(self, asset_json: dict) -> typing_extensions.Self>,\n",
       "              '_from_points': <function sepal_ui.aoi.aoi_model.AoiModel._from_points(self, point_json: dict) -> typing_extensions.Self>,\n",
       "              '_from_vector': <function sepal_ui.aoi.aoi_model.AoiModel._from_vector(self, vector_json: dict) -> typing_extensions.Self>,\n",
       "              '_from_geo_json': <function sepal_ui.aoi.aoi_model.AoiModel._from_geo_json(self, geo_json: dict) -> typing_extensions.Self>,\n",
       "              '_from_admin': <function sepal_ui.aoi.aoi_model.AoiModel._from_admin(self, admin: str) -> typing_extensions.Self>,\n",
       "              'clear_output': <function sepal_ui.aoi.aoi_model.AoiModel.clear_output(self) -> typing_extensions.Self>,\n",
       "              'clear_attributes': <function sepal_ui.aoi.aoi_model.AoiModel.clear_attributes(self) -> typing_extensions.Self>,\n",
       "              'get_columns': <function sepal_ui.aoi.aoi_model.AoiModel.get_columns(self) -> List[str]>,\n",
       "              'get_fields': <function sepal_ui.aoi.aoi_model.AoiModel.get_fields(self, column: str) -> List[str]>,\n",
       "              'get_selected': <function sepal_ui.aoi.aoi_model.AoiModel.get_selected(self, column: str, field: str) -> Union[ee.feature.Feature, geopandas.geodataframe.GeoDataFrame]>,\n",
       "              'total_bounds': <function sepal_ui.aoi.aoi_model.AoiModel.total_bounds(self) -> Tuple[float, float, float, float]>,\n",
       "              'export_to_asset': <function sepal_ui.aoi.aoi_model.AoiModel.export_to_asset(self) -> typing_extensions.Self>,\n",
       "              'get_ipygeojson': <function sepal_ui.aoi.aoi_model.AoiModel.get_ipygeojson(self, style: Optional[dict] = None) -> ipyleaflet.leaflet.GeoJSON>,\n",
       "              '__doc__': None,\n",
       "              '_trait_default_generators': {},\n",
       "              '_all_trait_default_generators': {'admin': <bound method TraitType.default of <traitlets.traitlets.Unicode object at 0x7ff89d841e70>>,\n",
       "               'asset_json': <bound method TraitType.default of <traitlets.traitlets.Dict object at 0x7ff89d841ed0>>,\n",
       "               'asset_name': <bound method TraitType.default of <traitlets.traitlets.Unicode object at 0x7ff89d841ea0>>,\n",
       "               'geo_json': <bound method TraitType.default of <traitlets.traitlets.Dict object at 0x7ff89d841e10>>,\n",
       "               'method': <bound method TraitType.default of <traitlets.traitlets.Unicode object at 0x7ff89f4b9780>>,\n",
       "               'name': <bound method TraitType.default of <traitlets.traitlets.Unicode object at 0x7ff89d841f00>>,\n",
       "               'point_json': <bound method TraitType.default of <traitlets.traitlets.Dict object at 0x7ff89de624a0>>,\n",
       "               'vector_json': <bound method TraitType.default of <traitlets.traitlets.Dict object at 0x7ff89d841db0>>},\n",
       "              '_traits': {'admin': <traitlets.traitlets.Unicode at 0x7ff89d841e70>,\n",
       "               'asset_json': <traitlets.traitlets.Dict at 0x7ff89d841ed0>,\n",
       "               'asset_name': <traitlets.traitlets.Unicode at 0x7ff89d841ea0>,\n",
       "               'geo_json': <traitlets.traitlets.Dict at 0x7ff89d841e10>,\n",
       "               'method': <traitlets.traitlets.Unicode at 0x7ff89f4b9780>,\n",
       "               'name': <traitlets.traitlets.Unicode at 0x7ff89d841f00>,\n",
       "               'point_json': <traitlets.traitlets.Dict at 0x7ff89de624a0>,\n",
       "               'vector_json': <traitlets.traitlets.Dict at 0x7ff89d841db0>},\n",
       "              '_static_immutable_initial_values': {'admin': None,\n",
       "               'asset_name': None,\n",
       "               'method': None,\n",
       "               'name': None},\n",
       "              '_descriptors': [<traitlets.traitlets.Unicode at 0x7ff89d841e70>,\n",
       "               <traitlets.traitlets.Dict at 0x7ff89d841ed0>,\n",
       "               <traitlets.traitlets.Unicode at 0x7ff89d841ea0>,\n",
       "               <traitlets.traitlets.Dict at 0x7ff89d841e10>,\n",
       "               <traitlets.traitlets.Unicode at 0x7ff89f4b9780>,\n",
       "               <traitlets.traitlets.Unicode at 0x7ff89d841f00>,\n",
       "               <traitlets.traitlets.Dict at 0x7ff89de624a0>,\n",
       "               <traitlets.traitlets.Dict at 0x7ff89d841db0>],\n",
       "              '_instance_inits': []})"
      ]
     },
     "execution_count": 43,
     "metadata": {},
     "output_type": "execute_result"
    }
   ],
   "source": [
    "AoiModel.__dict__"
   ]
  },
  {
   "cell_type": "code",
   "execution_count": null,
   "id": "6c6e0c34",
   "metadata": {},
   "outputs": [],
   "source": []
  },
  {
   "cell_type": "code",
   "execution_count": 47,
   "id": "582c27d7",
   "metadata": {},
   "outputs": [
    {
     "data": {
      "text/plain": [
       "{'_trait_values': {'_metadata': None,\n",
       "  '_model_module': 'jupyter-vuetify',\n",
       "  '_model_module_version': '^1.8.5',\n",
       "  '_model_name': 'ComboboxModel',\n",
       "  '_view_count': None,\n",
       "  '_view_module': 'jupyter-vuetify',\n",
       "  '_view_module_version': '^1.8.5',\n",
       "  '_view_name': 'VuetifyView',\n",
       "  'allow_overflow': None,\n",
       "  'append_icon': None,\n",
       "  'append_outer_icon': None,\n",
       "  'attach': None,\n",
       "  'auto_select_first': None,\n",
       "  'autofocus': None,\n",
       "  'background_color': None,\n",
       "  'cache_items': None,\n",
       "  'chips': None,\n",
       "  'class_': 'my-5',\n",
       "  'clear_icon': None,\n",
       "  'clearable': True,\n",
       "  'color': None,\n",
       "  'comm': <ipykernel.comm.comm.BaseComm at 0x7ff878495840>,\n",
       "  'counter': None,\n",
       "  'dark': None,\n",
       "  'deletable_chips': None,\n",
       "  'dense': True,\n",
       "  'disable_lookup': None,\n",
       "  'disabled': False,\n",
       "  'eager': None,\n",
       "  'error': None,\n",
       "  'error_count': None,\n",
       "  'error_messages': None,\n",
       "  'filled': None,\n",
       "  'flat': None,\n",
       "  'full_width': None,\n",
       "  'height': None,\n",
       "  'hide_details': None,\n",
       "  'hide_no_data': None,\n",
       "  'hide_selected': None,\n",
       "  'hint': None,\n",
       "  'id': None,\n",
       "  'item_color': None,\n",
       "  'item_disabled': None,\n",
       "  'item_text': None,\n",
       "  'item_value': None,\n",
       "  'label': 'Select an asset',\n",
       "  'layout': None,\n",
       "  'light': None,\n",
       "  'loader_height': None,\n",
       "  'loading': False,\n",
       "  'menu_props': None,\n",
       "  'messages': None,\n",
       "  'multiple': None,\n",
       "  'no_data_text': None,\n",
       "  'no_filter': None,\n",
       "  'old_class': '',\n",
       "  'open_on_clear': None,\n",
       "  'outlined': None,\n",
       "  'persistent_hint': None,\n",
       "  'placeholder': 'users/custom_user/custom_asset',\n",
       "  'prefix': None,\n",
       "  'prepend_icon': 'mdi-sync',\n",
       "  'prepend_inner_icon': None,\n",
       "  'readonly': None,\n",
       "  'return_object': None,\n",
       "  'reverse': None,\n",
       "  'rounded': None,\n",
       "  'search_input': None,\n",
       "  'shaped': None,\n",
       "  'single_line': None,\n",
       "  'slot': None,\n",
       "  'small_chips': None,\n",
       "  'solo': None,\n",
       "  'solo_inverted': None,\n",
       "  'style_': None,\n",
       "  'success': None,\n",
       "  'success_messages': None,\n",
       "  'suffix': None,\n",
       "  'tabbable': None,\n",
       "  'tooltip': None,\n",
       "  'type': None,\n",
       "  'v_model': None,\n",
       "  'v_on': None,\n",
       "  'validate_on_blur': None,\n",
       "  'value': None,\n",
       "  'viz': True,\n",
       "  'types': ['IMAGE', 'TABLE'],\n",
       "  'default_asset': [],\n",
       "  'items': [{'divider': True},\n",
       "   {'header': 'Raster'},\n",
       "   'projects/ee-joseserafini-fao/assets/CCDC_2018_2022_Bosawas/0',\n",
       "   'projects/ee-joseserafini-fao/assets/CCDC_2018_2022_Bosawas/1'],\n",
       "  '_msg_callbacks': <ipywidgets.widgets.widget.CallbackDispatcher at 0x7ff87844e560>,\n",
       "  'keys': ['_dom_classes',\n",
       "   '_events',\n",
       "   '_jupyter_vue',\n",
       "   '_metadata',\n",
       "   '_model_module',\n",
       "   '_model_module_version',\n",
       "   '_model_name',\n",
       "   '_view_count',\n",
       "   '_view_module',\n",
       "   '_view_module_version',\n",
       "   '_view_name',\n",
       "   'allow_overflow',\n",
       "   'append_icon',\n",
       "   'append_outer_icon',\n",
       "   'attach',\n",
       "   'attributes',\n",
       "   'auto_select_first',\n",
       "   'autofocus',\n",
       "   'background_color',\n",
       "   'cache_items',\n",
       "   'children',\n",
       "   'chips',\n",
       "   'class_',\n",
       "   'clear_icon',\n",
       "   'clearable',\n",
       "   'color',\n",
       "   'counter',\n",
       "   'dark',\n",
       "   'default_asset',\n",
       "   'deletable_chips',\n",
       "   'delimiters',\n",
       "   'dense',\n",
       "   'disable_lookup',\n",
       "   'disabled',\n",
       "   'eager',\n",
       "   'error',\n",
       "   'error_count',\n",
       "   'error_messages',\n",
       "   'filled',\n",
       "   'flat',\n",
       "   'full_width',\n",
       "   'height',\n",
       "   'hide_details',\n",
       "   'hide_no_data',\n",
       "   'hide_selected',\n",
       "   'hint',\n",
       "   'id',\n",
       "   'item_color',\n",
       "   'item_disabled',\n",
       "   'item_text',\n",
       "   'item_value',\n",
       "   'items',\n",
       "   'label',\n",
       "   'layout',\n",
       "   'light',\n",
       "   'loader_height',\n",
       "   'loading',\n",
       "   'menu_props',\n",
       "   'messages',\n",
       "   'multiple',\n",
       "   'no_data_text',\n",
       "   'no_filter',\n",
       "   'old_class',\n",
       "   'open_on_clear',\n",
       "   'outlined',\n",
       "   'persistent_hint',\n",
       "   'placeholder',\n",
       "   'prefix',\n",
       "   'prepend_icon',\n",
       "   'prepend_inner_icon',\n",
       "   'readonly',\n",
       "   'return_object',\n",
       "   'reverse',\n",
       "   'rounded',\n",
       "   'rules',\n",
       "   'search_input',\n",
       "   'shaped',\n",
       "   'single_line',\n",
       "   'slot',\n",
       "   'small_chips',\n",
       "   'solo',\n",
       "   'solo_inverted',\n",
       "   'style_',\n",
       "   'success',\n",
       "   'success_messages',\n",
       "   'suffix',\n",
       "   'tabbable',\n",
       "   'tooltip',\n",
       "   'type',\n",
       "   'types',\n",
       "   'v_model',\n",
       "   'v_on',\n",
       "   'v_slots',\n",
       "   'validate_on_blur',\n",
       "   'value',\n",
       "   'viz'],\n",
       "  '_dom_classes': (),\n",
       "  '_events': ['click:prepend'],\n",
       "  '_jupyter_vue': ForceLoad(),\n",
       "  'attributes': {},\n",
       "  'children': [],\n",
       "  'delimiters': None,\n",
       "  'rules': None,\n",
       "  'v_slots': [],\n",
       "  '_property_lock': {}},\n",
       " '_trait_notifiers': {'types': {'change': [<traitlets.traitlets.ObserveHandler at 0x7ff895764ac0>]},\n",
       "  'comm': {'change': [<traitlets.traitlets.ObserveHandler at 0x7ff8b6e82c50>]},\n",
       "  'viz': {'change': [<traitlets.traitlets.ObserveHandler at 0x7ff89d8432e0>]},\n",
       "  'v_model': {'change': [<bound method AssetSelect._validate of AssetSelect(class_='my-5', clearable=True, dense=True, disabled=False, items=[{'divider': True}, {'header': 'Raster'}, 'projects/ee-joseserafini-fao/assets/CCDC_2018_2022_Bosawas/0', 'projects/ee-joseserafini-fao/assets/CCDC_2018_2022_Bosawas/1'], label='Select an asset', layout=None, loading=False, placeholder='users/custom_user/custom_asset', prepend_icon='mdi-sync', types=['IMAGE', 'TABLE'], v_model=None)>]},\n",
       "  'default_asset': {'change': [<bound method AssetSelect._get_items of AssetSelect(class_='my-5', clearable=True, dense=True, disabled=False, items=[{'divider': True}, {'header': 'Raster'}, 'projects/ee-joseserafini-fao/assets/CCDC_2018_2022_Bosawas/0', 'projects/ee-joseserafini-fao/assets/CCDC_2018_2022_Bosawas/1'], label='Select an asset', layout=None, loading=False, placeholder='users/custom_user/custom_asset', prepend_icon='mdi-sync', types=['IMAGE', 'TABLE'], v_model=None)>]}},\n",
       " '_trait_validators': {},\n",
       " '_cross_validation_lock': False,\n",
       " 'valid': False,\n",
       " 'asset_info': None,\n",
       " 'folder': 'projects/ee-joseserafini-fao/assets/CCDC_2018_2022_Bosawas',\n",
       " '_loading_metadata': {},\n",
       " 'class_list': <ipyvue.VueWidget.ClassList at 0x7ff878488fd0>,\n",
       " '_model_id': '9cbeca4d2e8548e08cf245411f50c992',\n",
       " '_event_handlers_map': {'click:prepend': <ipywidgets.widgets.widget.CallbackDispatcher at 0x7ff87869b760>}}"
      ]
     },
     "execution_count": 47,
     "metadata": {},
     "output_type": "execute_result"
    }
   ],
   "source": [
    "from sepal_ui import sepalwidgets as sw\n",
    "test = sw.inputs.AssetSelect()\n",
    "test.__dict__"
   ]
  },
  {
   "cell_type": "code",
   "execution_count": 48,
   "id": "0f50c8e6",
   "metadata": {},
   "outputs": [
    {
     "data": {
      "text/plain": [
       "{'_trait_values': {'_metadata': None,\n",
       "  '_model_module': 'jupyter-vuetify',\n",
       "  '_model_module_version': '^1.8.5',\n",
       "  '_model_name': 'LayoutModel',\n",
       "  '_view_count': None,\n",
       "  '_view_module': 'jupyter-vuetify',\n",
       "  '_view_module_version': '^1.8.5',\n",
       "  '_view_name': 'VuetifyView',\n",
       "  'align_baseline': None,\n",
       "  'align_center': True,\n",
       "  'align_content_center': None,\n",
       "  'align_content_end': None,\n",
       "  'align_content_space_around': None,\n",
       "  'align_content_space_between': None,\n",
       "  'align_content_start': None,\n",
       "  'align_end': None,\n",
       "  'align_start': None,\n",
       "  'class_': 'pa-5',\n",
       "  'column': None,\n",
       "  'comm': <ipykernel.comm.comm.BaseComm at 0x7ff8784aa1a0>,\n",
       "  'd_block': None,\n",
       "  'd_contents': None,\n",
       "  'd_flex': None,\n",
       "  'd_grid': None,\n",
       "  'd_inherit': None,\n",
       "  'd_initial': None,\n",
       "  'd_inline': None,\n",
       "  'd_inline_block': None,\n",
       "  'd_inline_flex': None,\n",
       "  'd_inline_grid': None,\n",
       "  'd_inline_table': None,\n",
       "  'd_list_item': None,\n",
       "  'd_none': None,\n",
       "  'd_run_in': None,\n",
       "  'd_table': None,\n",
       "  'd_table_caption': None,\n",
       "  'd_table_cell': None,\n",
       "  'd_table_column': None,\n",
       "  'd_table_column_group': None,\n",
       "  'd_table_footer_group': None,\n",
       "  'd_table_header_group': None,\n",
       "  'd_table_row': None,\n",
       "  'd_table_row_group': None,\n",
       "  'disabled': False,\n",
       "  'fill_height': None,\n",
       "  'id': None,\n",
       "  'justify_center': None,\n",
       "  'justify_end': None,\n",
       "  'justify_space_around': None,\n",
       "  'justify_space_between': None,\n",
       "  'justify_start': None,\n",
       "  'layout': None,\n",
       "  'ma_0': None,\n",
       "  'ma_1': None,\n",
       "  'ma_2': None,\n",
       "  'ma_3': None,\n",
       "  'ma_4': None,\n",
       "  'ma_5': None,\n",
       "  'ma_auto': None,\n",
       "  'mb_0': None,\n",
       "  'mb_1': None,\n",
       "  'mb_2': None,\n",
       "  'mb_3': None,\n",
       "  'mb_4': None,\n",
       "  'mb_5': None,\n",
       "  'mb_auto': None,\n",
       "  'ml_0': None,\n",
       "  'ml_1': None,\n",
       "  'ml_2': None,\n",
       "  'ml_3': None,\n",
       "  'ml_4': None,\n",
       "  'ml_5': None,\n",
       "  'ml_auto': None,\n",
       "  'mr_0': None,\n",
       "  'mr_1': None,\n",
       "  'mr_2': None,\n",
       "  'mr_3': None,\n",
       "  'mr_4': None,\n",
       "  'mr_5': None,\n",
       "  'mr_auto': None,\n",
       "  'mt_0': None,\n",
       "  'mt_1': None,\n",
       "  'mt_2': None,\n",
       "  'mt_3': None,\n",
       "  'mt_4': None,\n",
       "  'mt_5': None,\n",
       "  'mt_auto': None,\n",
       "  'mx_0': None,\n",
       "  'mx_1': None,\n",
       "  'mx_2': None,\n",
       "  'mx_3': None,\n",
       "  'mx_4': None,\n",
       "  'mx_5': None,\n",
       "  'mx_auto': None,\n",
       "  'my_0': None,\n",
       "  'my_1': None,\n",
       "  'my_2': None,\n",
       "  'my_3': None,\n",
       "  'my_4': None,\n",
       "  'my_5': None,\n",
       "  'my_auto': None,\n",
       "  'old_class': '',\n",
       "  'pa_0': None,\n",
       "  'pa_1': None,\n",
       "  'pa_2': None,\n",
       "  'pa_3': None,\n",
       "  'pa_4': None,\n",
       "  'pa_5': None,\n",
       "  'pa_auto': None,\n",
       "  'pb_0': None,\n",
       "  'pb_1': None,\n",
       "  'pb_2': None,\n",
       "  'pb_3': None,\n",
       "  'pb_4': None,\n",
       "  'pb_5': None,\n",
       "  'pb_auto': None,\n",
       "  'pl_0': None,\n",
       "  'pl_1': None,\n",
       "  'pl_2': None,\n",
       "  'pl_3': None,\n",
       "  'pl_4': None,\n",
       "  'pl_5': None,\n",
       "  'pl_auto': None,\n",
       "  'pr_0': None,\n",
       "  'pr_1': None,\n",
       "  'pr_2': None,\n",
       "  'pr_3': None,\n",
       "  'pr_4': None,\n",
       "  'pr_5': None,\n",
       "  'pr_auto': None,\n",
       "  'pt_0': None,\n",
       "  'pt_1': None,\n",
       "  'pt_2': None,\n",
       "  'pt_3': None,\n",
       "  'pt_4': None,\n",
       "  'pt_5': None,\n",
       "  'pt_auto': None,\n",
       "  'px_0': None,\n",
       "  'px_1': None,\n",
       "  'px_2': None,\n",
       "  'px_3': None,\n",
       "  'px_4': None,\n",
       "  'px_5': None,\n",
       "  'px_auto': None,\n",
       "  'py_0': None,\n",
       "  'py_1': None,\n",
       "  'py_2': None,\n",
       "  'py_3': None,\n",
       "  'py_4': None,\n",
       "  'py_5': None,\n",
       "  'py_auto': None,\n",
       "  'reverse': None,\n",
       "  'row': True,\n",
       "  'slot': None,\n",
       "  'style_': None,\n",
       "  'tabbable': None,\n",
       "  'tag': None,\n",
       "  'tooltip': None,\n",
       "  'v_model': '',\n",
       "  'v_on': None,\n",
       "  'viz': True,\n",
       "  'wrap': None,\n",
       "  'children': [Flex(children=[Menu(children=[DatePicker(layout=None, no_title=True, scrollable=True, v_model='')], close_on_content_click=False, layout=None, min_width='290px', offset_y=True, transition='scale-transition', v_model=False, v_slots=[{'name': 'activator', 'variable': 'menuData', 'children': TextField(hint='YYYY-MM-DD format', label='Date', layout=None, persistent_hint=True, prepend_icon='event', readonly=True, v_model='', v_on='menuData.on')}])], layout=None, xs10=True)],\n",
       "  '_msg_callbacks': <ipywidgets.widgets.widget.CallbackDispatcher at 0x7ff8784aa2f0>,\n",
       "  'keys': ['_dom_classes',\n",
       "   '_events',\n",
       "   '_jupyter_vue',\n",
       "   '_metadata',\n",
       "   '_model_module',\n",
       "   '_model_module_version',\n",
       "   '_model_name',\n",
       "   '_view_count',\n",
       "   '_view_module',\n",
       "   '_view_module_version',\n",
       "   '_view_name',\n",
       "   'align_baseline',\n",
       "   'align_center',\n",
       "   'align_content_center',\n",
       "   'align_content_end',\n",
       "   'align_content_space_around',\n",
       "   'align_content_space_between',\n",
       "   'align_content_start',\n",
       "   'align_end',\n",
       "   'align_start',\n",
       "   'attributes',\n",
       "   'children',\n",
       "   'class_',\n",
       "   'column',\n",
       "   'd_block',\n",
       "   'd_contents',\n",
       "   'd_flex',\n",
       "   'd_grid',\n",
       "   'd_inherit',\n",
       "   'd_initial',\n",
       "   'd_inline',\n",
       "   'd_inline_block',\n",
       "   'd_inline_flex',\n",
       "   'd_inline_grid',\n",
       "   'd_inline_table',\n",
       "   'd_list_item',\n",
       "   'd_none',\n",
       "   'd_run_in',\n",
       "   'd_table',\n",
       "   'd_table_caption',\n",
       "   'd_table_cell',\n",
       "   'd_table_column',\n",
       "   'd_table_column_group',\n",
       "   'd_table_footer_group',\n",
       "   'd_table_header_group',\n",
       "   'd_table_row',\n",
       "   'd_table_row_group',\n",
       "   'disabled',\n",
       "   'fill_height',\n",
       "   'id',\n",
       "   'justify_center',\n",
       "   'justify_end',\n",
       "   'justify_space_around',\n",
       "   'justify_space_between',\n",
       "   'justify_start',\n",
       "   'layout',\n",
       "   'ma_0',\n",
       "   'ma_1',\n",
       "   'ma_2',\n",
       "   'ma_3',\n",
       "   'ma_4',\n",
       "   'ma_5',\n",
       "   'ma_auto',\n",
       "   'mb_0',\n",
       "   'mb_1',\n",
       "   'mb_2',\n",
       "   'mb_3',\n",
       "   'mb_4',\n",
       "   'mb_5',\n",
       "   'mb_auto',\n",
       "   'ml_0',\n",
       "   'ml_1',\n",
       "   'ml_2',\n",
       "   'ml_3',\n",
       "   'ml_4',\n",
       "   'ml_5',\n",
       "   'ml_auto',\n",
       "   'mr_0',\n",
       "   'mr_1',\n",
       "   'mr_2',\n",
       "   'mr_3',\n",
       "   'mr_4',\n",
       "   'mr_5',\n",
       "   'mr_auto',\n",
       "   'mt_0',\n",
       "   'mt_1',\n",
       "   'mt_2',\n",
       "   'mt_3',\n",
       "   'mt_4',\n",
       "   'mt_5',\n",
       "   'mt_auto',\n",
       "   'mx_0',\n",
       "   'mx_1',\n",
       "   'mx_2',\n",
       "   'mx_3',\n",
       "   'mx_4',\n",
       "   'mx_5',\n",
       "   'mx_auto',\n",
       "   'my_0',\n",
       "   'my_1',\n",
       "   'my_2',\n",
       "   'my_3',\n",
       "   'my_4',\n",
       "   'my_5',\n",
       "   'my_auto',\n",
       "   'old_class',\n",
       "   'pa_0',\n",
       "   'pa_1',\n",
       "   'pa_2',\n",
       "   'pa_3',\n",
       "   'pa_4',\n",
       "   'pa_5',\n",
       "   'pa_auto',\n",
       "   'pb_0',\n",
       "   'pb_1',\n",
       "   'pb_2',\n",
       "   'pb_3',\n",
       "   'pb_4',\n",
       "   'pb_5',\n",
       "   'pb_auto',\n",
       "   'pl_0',\n",
       "   'pl_1',\n",
       "   'pl_2',\n",
       "   'pl_3',\n",
       "   'pl_4',\n",
       "   'pl_5',\n",
       "   'pl_auto',\n",
       "   'pr_0',\n",
       "   'pr_1',\n",
       "   'pr_2',\n",
       "   'pr_3',\n",
       "   'pr_4',\n",
       "   'pr_5',\n",
       "   'pr_auto',\n",
       "   'pt_0',\n",
       "   'pt_1',\n",
       "   'pt_2',\n",
       "   'pt_3',\n",
       "   'pt_4',\n",
       "   'pt_5',\n",
       "   'pt_auto',\n",
       "   'px_0',\n",
       "   'px_1',\n",
       "   'px_2',\n",
       "   'px_3',\n",
       "   'px_4',\n",
       "   'px_5',\n",
       "   'px_auto',\n",
       "   'py_0',\n",
       "   'py_1',\n",
       "   'py_2',\n",
       "   'py_3',\n",
       "   'py_4',\n",
       "   'py_5',\n",
       "   'py_auto',\n",
       "   'reverse',\n",
       "   'row',\n",
       "   'slot',\n",
       "   'style_',\n",
       "   'tabbable',\n",
       "   'tag',\n",
       "   'tooltip',\n",
       "   'v_model',\n",
       "   'v_on',\n",
       "   'v_slots',\n",
       "   'viz',\n",
       "   'wrap'],\n",
       "  '_dom_classes': (),\n",
       "  '_events': [],\n",
       "  '_jupyter_vue': ForceLoad(),\n",
       "  'attributes': {},\n",
       "  'v_slots': [],\n",
       "  '_property_lock': {}},\n",
       " '_trait_notifiers': {'comm': {'change': [<traitlets.traitlets.ObserveHandler at 0x7ff8b6e82c50>]},\n",
       "  'viz': {'change': [<traitlets.traitlets.ObserveHandler at 0x7ff89d8432e0>]},\n",
       "  'v_model': {'change': [<traitlets.traitlets.ObserveHandler at 0x7ff89d688cd0>,\n",
       "    <traitlets.traitlets.ObserveHandler at 0x7ff89d688c10>,\n",
       "    <bound method link._update_source of <traitlets.traitlets.link object at 0x7ff878497fa0>>]},\n",
       "  'disabled': {'change': [<traitlets.traitlets.ObserveHandler at 0x7ff89d689510>]}},\n",
       " '_trait_validators': {},\n",
       " '_cross_validation_lock': False,\n",
       " 'date_picker': DatePicker(layout=None, no_title=True, scrollable=True, v_model=''),\n",
       " 'date_text': TextField(hint='YYYY-MM-DD format', label='Date', layout=None, persistent_hint=True, prepend_icon='event', readonly=True, v_model='', v_on='menuData.on'),\n",
       " 'menu': Menu(children=[DatePicker(layout=None, no_title=True, scrollable=True, v_model='')], close_on_content_click=False, layout=None, min_width='290px', offset_y=True, transition='scale-transition', v_model=False, v_slots=[{'name': 'activator', 'variable': 'menuData', 'children': TextField(hint='YYYY-MM-DD format', label='Date', layout=None, persistent_hint=True, prepend_icon='event', readonly=True, v_model='', v_on='menuData.on')}]),\n",
       " 'class_list': <ipyvue.VueWidget.ClassList at 0x7ff8784aa650>,\n",
       " '_model_id': '18484df5888f413687e6fbe6a52f2ab7',\n",
       " '_event_handlers_map': {}}"
      ]
     },
     "execution_count": 48,
     "metadata": {},
     "output_type": "execute_result"
    }
   ],
   "source": [
    "test2 = sw.DatePicker()\n",
    "test2.__dict__"
   ]
  },
  {
   "cell_type": "code",
   "execution_count": 22,
   "id": "92762ad7",
   "metadata": {},
   "outputs": [],
   "source": [
    "from traitlets import Any, HasTraits, Unicode, link, observe\n",
    "import ee\n",
    "ee.Initialize()"
   ]
  },
  {
   "cell_type": "code",
   "execution_count": 12,
   "id": "88a6167e",
   "metadata": {},
   "outputs": [
    {
     "data": {
      "text/plain": [
       "<ee.featurecollection.FeatureCollection at 0x7ff878eb3bb0>"
      ]
     },
     "execution_count": 12,
     "metadata": {},
     "output_type": "execute_result"
    }
   ],
   "source": [
    "ee_object = ee.FeatureCollection(\"users/joseserafinig/Argentina/Patagonia\")\n",
    "ee_object"
   ]
  },
  {
   "cell_type": "code",
   "execution_count": 36,
   "id": "cba9374f",
   "metadata": {},
   "outputs": [
    {
     "data": {
      "text/plain": [
       "<ee.featurecollection.FeatureCollection at 0x7ff87869b0d0>"
      ]
     },
     "execution_count": 36,
     "metadata": {},
     "output_type": "execute_result"
    }
   ],
   "source": [
    "ee_object2 = ee.FeatureCollection(\"users/joseserafinig/Argentina/provincias\")\n",
    "ee_object2"
   ]
  },
  {
   "cell_type": "code",
   "execution_count": 38,
   "id": "0d05f20a",
   "metadata": {},
   "outputs": [
    {
     "data": {
      "text/plain": [
       "140705157299120"
      ]
     },
     "execution_count": 38,
     "metadata": {},
     "output_type": "execute_result"
    }
   ],
   "source": [
    "id(ee_object)"
   ]
  },
  {
   "cell_type": "code",
   "execution_count": 37,
   "id": "4d5a58e2",
   "metadata": {},
   "outputs": [
    {
     "data": {
      "text/plain": [
       "140705148809424"
      ]
     },
     "execution_count": 37,
     "metadata": {},
     "output_type": "execute_result"
    }
   ],
   "source": [
    "id(ee_object2)"
   ]
  },
  {
   "cell_type": "code",
   "execution_count": 17,
   "id": "fddbc3e1",
   "metadata": {},
   "outputs": [],
   "source": [
    "class Test(HasTraits):\n",
    "    \n",
    "    fc = Any().tag(sync=True)\n",
    "    bar = Unicode().tag(sync=True)f\n",
    "    fc_name = \n",
    "    \n",
    "    "
   ]
  },
  {
   "cell_type": "code",
   "execution_count": 18,
   "id": "37502cef",
   "metadata": {},
   "outputs": [],
   "source": [
    "test = Test()"
   ]
  },
  {
   "cell_type": "code",
   "execution_count": 19,
   "id": "1e9be3bd",
   "metadata": {},
   "outputs": [
    {
     "data": {
      "text/plain": [
       "{'_trait_values': {'bar': '', 'fc': None},\n",
       " '_trait_notifiers': {},\n",
       " '_trait_validators': {},\n",
       " '_cross_validation_lock': False}"
      ]
     },
     "execution_count": 19,
     "metadata": {},
     "output_type": "execute_result"
    }
   ],
   "source": [
    "test.__dict__"
   ]
  },
  {
   "cell_type": "code",
   "execution_count": 20,
   "id": "e8e01cda",
   "metadata": {},
   "outputs": [
    {
     "data": {
      "text/plain": [
       "''"
      ]
     },
     "execution_count": 20,
     "metadata": {},
     "output_type": "execute_result"
    }
   ],
   "source": [
    "test.bar"
   ]
  },
  {
   "cell_type": "code",
   "execution_count": 21,
   "id": "eed650e4",
   "metadata": {},
   "outputs": [],
   "source": [
    "test.fc"
   ]
  },
  {
   "cell_type": "code",
   "execution_count": 25,
   "id": "997b1aa1",
   "metadata": {},
   "outputs": [],
   "source": [
    "def callback(change):\n",
    "    print(change)"
   ]
  },
  {
   "cell_type": "code",
   "execution_count": 26,
   "id": "b478813a",
   "metadata": {},
   "outputs": [],
   "source": [
    "test.observe(callback)"
   ]
  },
  {
   "cell_type": "code",
   "execution_count": 34,
   "id": "6b8a0ad5",
   "metadata": {},
   "outputs": [
    {
     "name": "stdout",
     "output_type": "stream",
     "text": [
      "({'name': 'bar', 'old': '', 'new': '1', 'owner': <__main__.Test object at 0x7ff878acc7f0>, 'type': 'change'},)\n",
      "{'name': 'bar', 'old': '', 'new': '1', 'owner': <__main__.Test object at 0x7ff878acc7f0>, 'type': 'change'}\n"
     ]
    }
   ],
   "source": [
    "test.bar = \"1\";"
   ]
  },
  {
   "cell_type": "code",
   "execution_count": 39,
   "id": "54e56fe5",
   "metadata": {},
   "outputs": [
    {
     "name": "stdout",
     "output_type": "stream",
     "text": [
      "({'name': 'fc', 'old': <ee.featurecollection.FeatureCollection object at 0x7ff878eb3bb0>, 'new': <ee.featurecollection.FeatureCollection object at 0x7ff87869b0d0>, 'owner': <__main__.Test object at 0x7ff878acc7f0>, 'type': 'change'},)\n",
      "{'name': 'fc', 'old': <ee.featurecollection.FeatureCollection object at 0x7ff878eb3bb0>, 'new': <ee.featurecollection.FeatureCollection object at 0x7ff87869b0d0>, 'owner': <__main__.Test object at 0x7ff878acc7f0>, 'type': 'change'}\n"
     ]
    }
   ],
   "source": [
    "test.fc = ee_object2"
   ]
  },
  {
   "cell_type": "code",
   "execution_count": 40,
   "id": "ed03317b",
   "metadata": {},
   "outputs": [
    {
     "name": "stdout",
     "output_type": "stream",
     "text": [
      "({'name': 'fc', 'old': <ee.featurecollection.FeatureCollection object at 0x7ff87869b0d0>, 'new': 'users/joseserafinig/Argentina/Patagonia', 'owner': <__main__.Test object at 0x7ff878acc7f0>, 'type': 'change'},)\n",
      "{'name': 'fc', 'old': <ee.featurecollection.FeatureCollection object at 0x7ff87869b0d0>, 'new': 'users/joseserafinig/Argentina/Patagonia', 'owner': <__main__.Test object at 0x7ff878acc7f0>, 'type': 'change'}\n"
     ]
    }
   ],
   "source": [
    "test.fc = \"users/joseserafinig/Argentina/Patagonia\""
   ]
  },
  {
   "cell_type": "code",
   "execution_count": 41,
   "id": "e3ecc423",
   "metadata": {},
   "outputs": [
    {
     "ename": "TraitError",
     "evalue": "The 'bar' trait of a Test instance expected a unicode string, not the int 1.",
     "output_type": "error",
     "traceback": [
      "\u001b[0;31m---------------------------------------------------------------------------\u001b[0m",
      "\u001b[0;31mTraitError\u001b[0m                                Traceback (most recent call last)",
      "Cell \u001b[0;32mIn[41], line 1\u001b[0m\n\u001b[0;32m----> 1\u001b[0m \u001b[43mtest\u001b[49m\u001b[38;5;241;43m.\u001b[39;49m\u001b[43mbar\u001b[49m \u001b[38;5;241m=\u001b[39m \u001b[38;5;241m1\u001b[39m\n",
      "File \u001b[0;32m/usr/local/lib/python3.10/dist-packages/traitlets/traitlets.py:716\u001b[0m, in \u001b[0;36mTraitType.__set__\u001b[0;34m(self, obj, value)\u001b[0m\n\u001b[1;32m    714\u001b[0m \u001b[38;5;28;01mif\u001b[39;00m \u001b[38;5;28mself\u001b[39m\u001b[38;5;241m.\u001b[39mread_only:\n\u001b[1;32m    715\u001b[0m     \u001b[38;5;28;01mraise\u001b[39;00m TraitError(\u001b[38;5;124m'\u001b[39m\u001b[38;5;124mThe \u001b[39m\u001b[38;5;124m\"\u001b[39m\u001b[38;5;132;01m%s\u001b[39;00m\u001b[38;5;124m\"\u001b[39m\u001b[38;5;124m trait is read-only.\u001b[39m\u001b[38;5;124m'\u001b[39m \u001b[38;5;241m%\u001b[39m \u001b[38;5;28mself\u001b[39m\u001b[38;5;241m.\u001b[39mname)\n\u001b[0;32m--> 716\u001b[0m \u001b[38;5;28;43mself\u001b[39;49m\u001b[38;5;241;43m.\u001b[39;49m\u001b[43mset\u001b[49m\u001b[43m(\u001b[49m\u001b[43mobj\u001b[49m\u001b[43m,\u001b[49m\u001b[43m \u001b[49m\u001b[43mvalue\u001b[49m\u001b[43m)\u001b[49m\n",
      "File \u001b[0;32m/usr/local/lib/python3.10/dist-packages/traitlets/traitlets.py:690\u001b[0m, in \u001b[0;36mTraitType.set\u001b[0;34m(self, obj, value)\u001b[0m\n\u001b[1;32m    689\u001b[0m \u001b[38;5;28;01mdef\u001b[39;00m \u001b[38;5;21mset\u001b[39m(\u001b[38;5;28mself\u001b[39m, obj: HasTraits, value: S) \u001b[38;5;241m-\u001b[39m\u001b[38;5;241m>\u001b[39m \u001b[38;5;28;01mNone\u001b[39;00m:\n\u001b[0;32m--> 690\u001b[0m     new_value \u001b[38;5;241m=\u001b[39m \u001b[38;5;28;43mself\u001b[39;49m\u001b[38;5;241;43m.\u001b[39;49m\u001b[43m_validate\u001b[49m\u001b[43m(\u001b[49m\u001b[43mobj\u001b[49m\u001b[43m,\u001b[49m\u001b[43m \u001b[49m\u001b[43mvalue\u001b[49m\u001b[43m)\u001b[49m\n\u001b[1;32m    691\u001b[0m     \u001b[38;5;28;01massert\u001b[39;00m \u001b[38;5;28mself\u001b[39m\u001b[38;5;241m.\u001b[39mname \u001b[38;5;129;01mis\u001b[39;00m \u001b[38;5;129;01mnot\u001b[39;00m \u001b[38;5;28;01mNone\u001b[39;00m\n\u001b[1;32m    692\u001b[0m     \u001b[38;5;28;01mtry\u001b[39;00m:\n",
      "File \u001b[0;32m/usr/local/lib/python3.10/dist-packages/traitlets/traitlets.py:722\u001b[0m, in \u001b[0;36mTraitType._validate\u001b[0;34m(self, obj, value)\u001b[0m\n\u001b[1;32m    720\u001b[0m     \u001b[38;5;28;01mreturn\u001b[39;00m value\n\u001b[1;32m    721\u001b[0m \u001b[38;5;28;01mif\u001b[39;00m \u001b[38;5;28mhasattr\u001b[39m(\u001b[38;5;28mself\u001b[39m, \u001b[38;5;124m\"\u001b[39m\u001b[38;5;124mvalidate\u001b[39m\u001b[38;5;124m\"\u001b[39m):\n\u001b[0;32m--> 722\u001b[0m     value \u001b[38;5;241m=\u001b[39m \u001b[38;5;28;43mself\u001b[39;49m\u001b[38;5;241;43m.\u001b[39;49m\u001b[43mvalidate\u001b[49m\u001b[43m(\u001b[49m\u001b[43mobj\u001b[49m\u001b[43m,\u001b[49m\u001b[43m \u001b[49m\u001b[43mvalue\u001b[49m\u001b[43m)\u001b[49m\n\u001b[1;32m    723\u001b[0m \u001b[38;5;28;01mif\u001b[39;00m obj\u001b[38;5;241m.\u001b[39m_cross_validation_lock \u001b[38;5;129;01mis\u001b[39;00m \u001b[38;5;28;01mFalse\u001b[39;00m:\n\u001b[1;32m    724\u001b[0m     value \u001b[38;5;241m=\u001b[39m \u001b[38;5;28mself\u001b[39m\u001b[38;5;241m.\u001b[39m_cross_validate(obj, value)\n",
      "File \u001b[0;32m/usr/local/lib/python3.10/dist-packages/traitlets/traitlets.py:2945\u001b[0m, in \u001b[0;36mUnicode.validate\u001b[0;34m(self, obj, value)\u001b[0m\n\u001b[1;32m   2943\u001b[0m         msg \u001b[38;5;241m=\u001b[39m \u001b[38;5;124m\"\u001b[39m\u001b[38;5;124mCould not decode \u001b[39m\u001b[38;5;132;01m{!r}\u001b[39;00m\u001b[38;5;124m for unicode trait \u001b[39m\u001b[38;5;124m'\u001b[39m\u001b[38;5;132;01m{}\u001b[39;00m\u001b[38;5;124m'\u001b[39m\u001b[38;5;124m of \u001b[39m\u001b[38;5;132;01m{}\u001b[39;00m\u001b[38;5;124m instance.\u001b[39m\u001b[38;5;124m\"\u001b[39m\n\u001b[1;32m   2944\u001b[0m         \u001b[38;5;28;01mraise\u001b[39;00m TraitError(msg\u001b[38;5;241m.\u001b[39mformat(value, \u001b[38;5;28mself\u001b[39m\u001b[38;5;241m.\u001b[39mname, class_of(obj))) \u001b[38;5;28;01mfrom\u001b[39;00m \u001b[38;5;21;01me\u001b[39;00m\n\u001b[0;32m-> 2945\u001b[0m \u001b[38;5;28;43mself\u001b[39;49m\u001b[38;5;241;43m.\u001b[39;49m\u001b[43merror\u001b[49m\u001b[43m(\u001b[49m\u001b[43mobj\u001b[49m\u001b[43m,\u001b[49m\u001b[43m \u001b[49m\u001b[43mvalue\u001b[49m\u001b[43m)\u001b[49m\n",
      "File \u001b[0;32m/usr/local/lib/python3.10/dist-packages/traitlets/traitlets.py:831\u001b[0m, in \u001b[0;36mTraitType.error\u001b[0;34m(self, obj, value, error, info)\u001b[0m\n\u001b[1;32m    825\u001b[0m \u001b[38;5;28;01melse\u001b[39;00m:\n\u001b[1;32m    826\u001b[0m     e \u001b[38;5;241m=\u001b[39m \u001b[38;5;124m\"\u001b[39m\u001b[38;5;124mThe \u001b[39m\u001b[38;5;124m'\u001b[39m\u001b[38;5;132;01m{}\u001b[39;00m\u001b[38;5;124m'\u001b[39m\u001b[38;5;124m trait expected \u001b[39m\u001b[38;5;132;01m{}\u001b[39;00m\u001b[38;5;124m, not \u001b[39m\u001b[38;5;132;01m{}\u001b[39;00m\u001b[38;5;124m.\u001b[39m\u001b[38;5;124m\"\u001b[39m\u001b[38;5;241m.\u001b[39mformat(\n\u001b[1;32m    827\u001b[0m         \u001b[38;5;28mself\u001b[39m\u001b[38;5;241m.\u001b[39mname,\n\u001b[1;32m    828\u001b[0m         info \u001b[38;5;129;01mor\u001b[39;00m \u001b[38;5;28mself\u001b[39m\u001b[38;5;241m.\u001b[39minfo(),\n\u001b[1;32m    829\u001b[0m         describe(\u001b[38;5;124m\"\u001b[39m\u001b[38;5;124mthe\u001b[39m\u001b[38;5;124m\"\u001b[39m, value),\n\u001b[1;32m    830\u001b[0m     )\n\u001b[0;32m--> 831\u001b[0m \u001b[38;5;28;01mraise\u001b[39;00m TraitError(e)\n",
      "\u001b[0;31mTraitError\u001b[0m: The 'bar' trait of a Test instance expected a unicode string, not the int 1."
     ]
    }
   ],
   "source": [
    "test.bar = 1"
   ]
  },
  {
   "cell_type": "code",
   "execution_count": null,
   "id": "026fae8d",
   "metadata": {},
   "outputs": [],
   "source": []
  },
  {
   "cell_type": "code",
   "execution_count": null,
   "id": "7a4a95cc",
   "metadata": {},
   "outputs": [],
   "source": []
  },
  {
   "cell_type": "code",
   "execution_count": null,
   "id": "06a6c78b",
   "metadata": {},
   "outputs": [],
   "source": []
  },
  {
   "cell_type": "code",
   "execution_count": null,
   "id": "1f393f55",
   "metadata": {},
   "outputs": [],
   "source": []
  },
  {
   "cell_type": "code",
   "execution_count": 1,
   "id": "49db155d",
   "metadata": {},
   "outputs": [
    {
     "data": {
      "text/html": [
       "<style>/*******************************************************************************\n",
       " * Customization of the provided css from the different libs used by sepal_ui\n",
       " */\n",
       "\n",
       "/* replace the map panel elements on top */\n",
       ".leaflet-pane,\n",
       ".leaflet-top,\n",
       ".leaflet-bottom {\n",
       "  z-index: 2 !important;\n",
       "}\n",
       "\n",
       "/* remove the shadow from the widgets on the maps */\n",
       ".leaflet-widgetcontrol {\n",
       "  box-shadow: none;\n",
       "}\n",
       "\n",
       "/* remove extra padding on top of the content */\n",
       "main.v-content {\n",
       "  padding-top: 0px !important;\n",
       "}\n",
       "\n",
       "/* remove all the backgrounds from the controls and widget to be colored naturelly by the map */\n",
       ".leaflet-control-container .vuetify-styles .v-application {\n",
       "  background: rgb(0, 0, 0, 0);\n",
       "}\n",
       ".v-alert__wrapper .progress {\n",
       "  background-color: transparent;\n",
       "}\n",
       "\n",
       "/* set the bar on top of the map (800) when set to fullscreen */\n",
       "header.v-app-bar {\n",
       "  z-index: 800 !important;\n",
       "}\n",
       "\n",
       "/* set the menu_content on top of the map when it's set to fullscreen */\n",
       ".v-menu__content {\n",
       "  max-width: 100% !important;\n",
       "}\n",
       "\n",
       "/* make sure navigation drawers are always visible when they exist */\n",
       "nav.v-navigation-drawer {\n",
       "  z-index: 900 !important;\n",
       "}\n",
       "\n",
       "/* create extra position for the leaflet map controls */\n",
       ".leaflet-center {\n",
       "  left: 50%;\n",
       "  transform: translate(-50%, 0%);\n",
       "}\n",
       "\n",
       ".leaflet-middle {\n",
       "  top: 50%;\n",
       "  position: absolute;\n",
       "  z-index: 1000;\n",
       "  pointer-events: none;\n",
       "  transform: translate(0%, -50%);\n",
       "}\n",
       "\n",
       ".leaflet-center.leaflet-middle {\n",
       "  transform: translate(-50%, -50%);\n",
       "}\n",
       "\n",
       "/* create extra classes to customize the layer_control table */\n",
       ".v-no-hover:hover {\n",
       "  background-color: transparent !important;\n",
       "}\n",
       "\n",
       ".v-no-border tbody tr td,\n",
       ".v-no-border tbody tr th {\n",
       "  border: none !important;\n",
       "}\n",
       "\n",
       "/* extra css rules to make the messages disappear beneath the SimpleSlider */\n",
       ".v-no-messages .v-messages {\n",
       "  display: none;\n",
       "}\n",
       "\n",
       ".v-no-messages .v-input__slot {\n",
       "  margin-bottom: 0;\n",
       "}\n",
       "\n",
       "/* specific css for the btn placed on maps */\n",
       ".v-btn.v-size--default.v-map-btn:not(.v-btn--round) {\n",
       "  padding: 0px;\n",
       "  min-width: 0px;\n",
       "  width: 30px;\n",
       "  height: 30px;\n",
       "}\n",
       "\n",
       "/* add specific css for the zoom btn of the map */\n",
       ".v-btn.v-zoom-plus {\n",
       "  border-bottom-left-radius: 0;\n",
       "  border-bottom-right-radius: 0;\n",
       "}\n",
       "\n",
       ".v-btn.v-zoom-minus {\n",
       "  margin-top: -1px;\n",
       "  border-top-left-radius: 0;\n",
       "  border-top-right-radius: 0;\n",
       "}\n",
       "\n",
       "/* css rules for fullscreen menus */\n",
       ".v-card.v-menu-fullscreen {\n",
       "  width: calc(100vw - 80px);\n",
       "  height: calc(100vh - 20px);\n",
       "}\n",
       "\n",
       "/* hide the disclaimer message placed on top of the ui notebook\n",
       " * the message will be displayed until the css is loaded */\n",
       "#loading-app {\n",
       "  display: none !important;\n",
       "}\n",
       "\n",
       "/* Related with https://github.com/12rambau/sepal_ui/issues/893 */\n",
       "#rendered_cells {\n",
       "  contain: revert !important;\n",
       "  background-color: revert !important;\n",
       "}\n",
       "</style>"
      ],
      "text/plain": [
       "<IPython.core.display.HTML object>"
      ]
     },
     "metadata": {},
     "output_type": "display_data"
    },
    {
     "data": {
      "text/html": [
       "<link rel=\"stylesheet\" href=\"https://cdnjs.cloudflare.com/ajax/libs/font-awesome/6.2.1/css/all.min.css\"/>"
      ],
      "text/plain": [
       "<IPython.core.display.HTML object>"
      ]
     },
     "metadata": {},
     "output_type": "display_data"
    },
    {
     "data": {
      "application/javascript": [
       "/*******************************************************************************\n",
       " * remove any links from fontawesome 5 created by jupyter in favor of\n",
       " * fontawesome 6. to be removed when Jupyter updates it\n",
       " */\n",
       "\n",
       "function remove_fa5() {\n",
       "  let links = document.querySelectorAll(\n",
       "    \"link[href^='https://cdn.jsdelivr.net/npm/@fortawesome/fontawesome-free@^5']\"\n",
       "  );\n",
       "\n",
       "  links.forEach((link) => link.remove());\n",
       "}\n",
       "\n",
       "if (document.readyState != \"loading\") remove_fa5();\n",
       "else document.addEventListener(\"DOMContentLoaded\", remove_fa5);\n"
      ],
      "text/plain": [
       "<IPython.core.display.Javascript object>"
      ]
     },
     "metadata": {},
     "output_type": "display_data"
    },
    {
     "data": {
      "application/vnd.jupyter.widget-view+json": {
       "model_id": "ff579f231315413cb9db3418ef659347",
       "version_major": 2,
       "version_minor": 0
      },
      "text/plain": [
       "ResizeTrigger()"
      ]
     },
     "metadata": {},
     "output_type": "display_data"
    }
   ],
   "source": [
    "from sepal_ui import sepalwidgets as sw\n",
    "from component.message import cm\n",
    "from sepal_ui.planetapi import PlanetView"
   ]
  },
  {
   "cell_type": "code",
   "execution_count": 5,
   "id": "c061781f",
   "metadata": {},
   "outputs": [
    {
     "data": {
      "text/html": [
       "<style>/*******************************************************************************\n",
       " * Customization of the provided css from the different libs used by sepal_ui\n",
       " */\n",
       "\n",
       "/* replace the map panel elements on top */\n",
       ".leaflet-pane,\n",
       ".leaflet-top,\n",
       ".leaflet-bottom {\n",
       "  z-index: 2 !important;\n",
       "}\n",
       "\n",
       "/* remove the shadow from the widgets on the maps */\n",
       ".leaflet-widgetcontrol {\n",
       "  box-shadow: none;\n",
       "}\n",
       "\n",
       "/* remove extra padding on top of the content */\n",
       "main.v-content {\n",
       "  padding-top: 0px !important;\n",
       "}\n",
       "\n",
       "/* remove all the backgrounds from the controls and widget to be colored naturelly by the map */\n",
       ".leaflet-control-container .vuetify-styles .v-application {\n",
       "  background: rgb(0, 0, 0, 0);\n",
       "}\n",
       ".v-alert__wrapper .progress {\n",
       "  background-color: transparent;\n",
       "}\n",
       "\n",
       "/* set the bar on top of the map (800) when set to fullscreen */\n",
       "header.v-app-bar {\n",
       "  z-index: 800 !important;\n",
       "}\n",
       "\n",
       "/* set the menu_content on top of the map when it's set to fullscreen */\n",
       ".v-menu__content {\n",
       "  max-width: 100% !important;\n",
       "}\n",
       "\n",
       "/* make sure navigation drawers are always visible when they exist */\n",
       "nav.v-navigation-drawer {\n",
       "  z-index: 900 !important;\n",
       "}\n",
       "\n",
       "/* create extra position for the leaflet map controls */\n",
       ".leaflet-center {\n",
       "  left: 50%;\n",
       "  transform: translate(-50%, 0%);\n",
       "}\n",
       "\n",
       ".leaflet-middle {\n",
       "  top: 50%;\n",
       "  position: absolute;\n",
       "  z-index: 1000;\n",
       "  pointer-events: none;\n",
       "  transform: translate(0%, -50%);\n",
       "}\n",
       "\n",
       ".leaflet-center.leaflet-middle {\n",
       "  transform: translate(-50%, -50%);\n",
       "}\n",
       "\n",
       "/* create extra classes to customize the layer_control table */\n",
       ".v-no-hover:hover {\n",
       "  background-color: transparent !important;\n",
       "}\n",
       "\n",
       ".v-no-border tbody tr td,\n",
       ".v-no-border tbody tr th {\n",
       "  border: none !important;\n",
       "}\n",
       "\n",
       "/* extra css rules to make the messages disappear beneath the SimpleSlider */\n",
       ".v-no-messages .v-messages {\n",
       "  display: none;\n",
       "}\n",
       "\n",
       ".v-no-messages .v-input__slot {\n",
       "  margin-bottom: 0;\n",
       "}\n",
       "\n",
       "/* specific css for the btn placed on maps */\n",
       ".v-btn.v-size--default.v-map-btn:not(.v-btn--round) {\n",
       "  padding: 0px;\n",
       "  min-width: 0px;\n",
       "  width: 30px;\n",
       "  height: 30px;\n",
       "}\n",
       "\n",
       "/* add specific css for the zoom btn of the map */\n",
       ".v-btn.v-zoom-plus {\n",
       "  border-bottom-left-radius: 0;\n",
       "  border-bottom-right-radius: 0;\n",
       "}\n",
       "\n",
       ".v-btn.v-zoom-minus {\n",
       "  margin-top: -1px;\n",
       "  border-top-left-radius: 0;\n",
       "  border-top-right-radius: 0;\n",
       "}\n",
       "\n",
       "/* css rules for fullscreen menus */\n",
       ".v-card.v-menu-fullscreen {\n",
       "  width: calc(100vw - 80px);\n",
       "  height: calc(100vh - 20px);\n",
       "}\n",
       "\n",
       "/* hide the disclaimer message placed on top of the ui notebook\n",
       " * the message will be displayed until the css is loaded */\n",
       "#loading-app {\n",
       "  display: none !important;\n",
       "}\n",
       "\n",
       "/* Related with https://github.com/12rambau/sepal_ui/issues/893 */\n",
       "#rendered_cells {\n",
       "  contain: revert !important;\n",
       "  background-color: revert !important;\n",
       "}\n",
       "</style>"
      ],
      "text/plain": [
       "<IPython.core.display.HTML object>"
      ]
     },
     "metadata": {},
     "output_type": "display_data"
    },
    {
     "data": {
      "text/html": [
       "<link rel=\"stylesheet\" href=\"https://cdnjs.cloudflare.com/ajax/libs/font-awesome/6.2.1/css/all.min.css\"/>"
      ],
      "text/plain": [
       "<IPython.core.display.HTML object>"
      ]
     },
     "metadata": {},
     "output_type": "display_data"
    },
    {
     "data": {
      "application/javascript": [
       "/*******************************************************************************\n",
       " * remove any links from fontawesome 5 created by jupyter in favor of\n",
       " * fontawesome 6. to be removed when Jupyter updates it\n",
       " */\n",
       "\n",
       "function remove_fa5() {\n",
       "  let links = document.querySelectorAll(\n",
       "    \"link[href^='https://cdn.jsdelivr.net/npm/@fortawesome/fontawesome-free@^5']\"\n",
       "  );\n",
       "\n",
       "  links.forEach((link) => link.remove());\n",
       "}\n",
       "\n",
       "if (document.readyState != \"loading\") remove_fa5();\n",
       "else document.addEventListener(\"DOMContentLoaded\", remove_fa5);\n"
      ],
      "text/plain": [
       "<IPython.core.display.Javascript object>"
      ]
     },
     "metadata": {},
     "output_type": "display_data"
    },
    {
     "data": {
      "application/vnd.jupyter.widget-view+json": {
       "model_id": "af055038da564dba84147585f7293a0d",
       "version_major": 2,
       "version_minor": 0
      },
      "text/plain": [
       "ResizeTrigger()"
      ]
     },
     "metadata": {},
     "output_type": "display_data"
    }
   ],
   "source": [
    "from sepal_ui import aoi\n",
    "from sepal_ui.mapping import SepalMap\n",
    "import ipyvuetify as v"
   ]
  },
  {
   "cell_type": "code",
   "execution_count": 7,
   "id": "c777c8e9",
   "metadata": {},
   "outputs": [
    {
     "data": {
      "text/plain": [
       "(ipyvuetify.generated.Select.Select,\n",
       " ipyvuetify.generated.VuetifyWidget.VuetifyWidget,\n",
       " ipyvue.VueWidget.VueWidget,\n",
       " ipywidgets.widgets.domwidget.DOMWidget,\n",
       " ipywidgets.widgets.widget.Widget,\n",
       " ipywidgets.widgets.widget.LoggingHasTraits,\n",
       " traitlets.traitlets.HasTraits,\n",
       " traitlets.traitlets.HasDescriptors,\n",
       " ipyvue.VueWidget.Events,\n",
       " object)"
      ]
     },
     "execution_count": 7,
     "metadata": {},
     "output_type": "execute_result"
    }
   ],
   "source": [
    "v.Select.__mro__"
   ]
  },
  {
   "cell_type": "code",
   "execution_count": 8,
   "id": "d644d902",
   "metadata": {},
   "outputs": [
    {
     "data": {
      "text/plain": [
       "object"
      ]
     },
     "execution_count": 8,
     "metadata": {},
     "output_type": "execute_result"
    }
   ],
   "source": [
    "object"
   ]
  },
  {
   "cell_type": "code",
   "execution_count": 3,
   "id": "ac69877b-cb56-41da-b7d7-2c12d339fca7",
   "metadata": {},
   "outputs": [],
   "source": [
    "import ee\n",
    "ee.Initialize()"
   ]
  },
  {
   "cell_type": "code",
   "execution_count": null,
   "id": "8b6a085b",
   "metadata": {},
   "outputs": [],
   "source": []
  },
  {
   "cell_type": "code",
   "execution_count": null,
   "id": "266b472b",
   "metadata": {},
   "outputs": [],
   "source": []
  },
  {
   "cell_type": "code",
   "execution_count": null,
   "id": "6a4502ac",
   "metadata": {},
   "outputs": [],
   "source": [
    "map_ = SepalMap()"
   ]
  },
  {
   "cell_type": "code",
   "execution_count": null,
   "id": "e83cea5f",
   "metadata": {},
   "outputs": [],
   "source": [
    "from ipyleaflet import Map, basemaps, basemap_to_tiles, SplitMapControl\n",
    "right_layer = basemap_to_tiles(basemaps.NASAGIBS.ModisTerraTrueColorCR, \"2017-11-11\")\n",
    "left_layer = basemap_to_tiles(basemaps.NASAGIBS.ModisAquaBands721CR, \"2017-11-11\")\n",
    "\n",
    "control = SplitMapControl(left_layer=left_layer, right_layer=right_layer)\n",
    "map_.add(control);\n",
    "map_.remove(control);"
   ]
  },
  {
   "cell_type": "code",
   "execution_count": null,
   "id": "001e3e16",
   "metadata": {},
   "outputs": [],
   "source": [
    "def zoom_ee_object(self, item: ee.ComputedObject, zoom_out: int = 1):\n",
    "    \"\"\"Get the proper zoom to the given ee geometry.\n",
    "\n",
    "    Args:\n",
    "        item: the geometry to zoom on\n",
    "        zoom_out: Zoom out the bounding zoom\n",
    "    \"\"\"\n",
    "    # type check the given object\n",
    "    ee_geometry = item if isinstance(item, ee.Geometry) else item.geometry()\n",
    "    self.centerObject(point);\n",
    "    self.zoom = 7"
   ]
  },
  {
   "cell_type": "code",
   "execution_count": null,
   "id": "5873c313",
   "metadata": {},
   "outputs": [],
   "source": [
    "map_.centerObject?"
   ]
  },
  {
   "cell_type": "markdown",
   "id": "bcdbbac8",
   "metadata": {},
   "source": [
    "# Pagina 1"
   ]
  },
  {
   "cell_type": "code",
   "execution_count": null,
   "id": "c5f8bb0a",
   "metadata": {},
   "outputs": [],
   "source": [
    "# 1. Crear el mapa para seleccionar el área de estudio\n",
    "map_1 = SepalMap()\n",
    "map_1.layout.height = '100%'"
   ]
  },
  {
   "cell_type": "code",
   "execution_count": null,
   "id": "6fc0398c",
   "metadata": {},
   "outputs": [],
   "source": [
    "aoi_view = aoi.AoiView(gee=True, map_= map_1)\n",
    "card11 = v.Card(class_=\"pa-2\",children=[v.CardTitle(children=[\"Area of interest selection\"]),aoi_view])"
   ]
  },
  {
   "cell_type": "code",
   "execution_count": null,
   "id": "6d336d9e",
   "metadata": {},
   "outputs": [],
   "source": [
    "# 2. Crear los widgets para la selección lugar y de fechas\n",
    "start_date = sw.DatePicker(label=\"Start date\")\n",
    "end_date = sw.DatePicker(label=\"End date\")\n",
    "search_button = sw.Btn(text=\"Search\")\n",
    "card12 = v.Card(class_=\"pa-2\",children=[v.CardTitle(children=[\"Date selection\"]), start_date , end_date, search_button])"
   ]
  },
  {
   "cell_type": "code",
   "execution_count": null,
   "id": "7006eb13",
   "metadata": {},
   "outputs": [],
   "source": [
    "# Layout 1 de la aplicación\n",
    "layout1 = sw.Row(_metadata={\"mount_id\":\"layout1\"}, children=[\n",
    "    sw.Col(cols=9, style=\"height: 100vh;\", children=[map_1]),\n",
    "    sw.Col(cols=3, style=\"height: 100vh;\", children=[card11, card12]),\n",
    "])"
   ]
  },
  {
   "cell_type": "code",
   "execution_count": null,
   "id": "2b53b485",
   "metadata": {},
   "outputs": [],
   "source": [
    "aoi_layer = aoi_view.model.feature_collection"
   ]
  },
  {
   "cell_type": "markdown",
   "id": "4478cab1",
   "metadata": {},
   "source": [
    "# Pagina 2"
   ]
  },
  {
   "cell_type": "code",
   "execution_count": null,
   "id": "938640fd-768f-4e8e-bc24-68cc191f0ad2",
   "metadata": {},
   "outputs": [],
   "source": [
    "def create_checkboxes(item_list):\n",
    "    checkboxes = []\n",
    "    for item in item_list:\n",
    "        checkbox = v.Checkbox(label=item)\n",
    "        checkboxes.append(checkbox)\n",
    "    \n",
    "    # Return a layout containing all the checkboxes\n",
    "    return v.Row(children=checkboxes)\n",
    "\n",
    "# Example usage\n",
    "item_list = ['GLAD-L', 'GLAD-S2', 'RADD','CCDC_alerts']"
   ]
  },
  {
   "cell_type": "code",
   "execution_count": null,
   "id": "02ca0e22",
   "metadata": {},
   "outputs": [],
   "source": [
    "checkbox_container21 = create_checkboxes(item_list)\n",
    "card21 = v.Card(class_=\"pa-2\",children=[v.CardTitle(children=[\"Available alerts\"]),checkbox_container21])"
   ]
  },
  {
   "cell_type": "code",
   "execution_count": null,
   "id": "6b54fcfa",
   "metadata": {},
   "outputs": [],
   "source": [
    "min_area_input = sw.TextField()\n",
    "card22 = v.Card(class_=\"pa-2\",children=[v.CardTitle(children=[\"Min alert size (ha)\"]), min_area_input])"
   ]
  },
  {
   "cell_type": "code",
   "execution_count": null,
   "id": "00cc5b1e",
   "metadata": {},
   "outputs": [],
   "source": [
    "# Function to handle mutually exclusive selection\n",
    "def on_checkbox_change(widget, selected_label):\n",
    "    # Uncheck all checkboxes except the one that was clicked\n",
    "    for checkbox in checkboxes:\n",
    "        checkbox.v_model = checkbox.label == selected_label\n",
    "\n",
    "# Function to create checkboxes dynamically from a list of options\n",
    "def create_exclusive_checkboxes(options):\n",
    "    global checkboxes  # Declare checkboxes as global to access in change handler\n",
    "    checkboxes = [\n",
    "        v.Checkbox(label=option, v_model=False) for option in options\n",
    "    ]\n",
    "    \n",
    "    # Add the observer to handle change events for each checkbox\n",
    "    for checkbox in checkboxes:\n",
    "        checkbox.observe(lambda change, checkbox=checkbox: on_checkbox_change(checkbox, checkbox.label), 'v_model')\n",
    "    \n",
    "    # Create a container to display the checkboxes\n",
    "    return v.Container(children=checkboxes)\n",
    "\n",
    "# List of options\n",
    "alert_selection_method_list = ['Chose one by drawn items', 'Prioritize Top Alerts by size', 'Prioritize Top Alerts by date', 'All']\n",
    "\n",
    "# Create and display the checkboxes\n",
    "checkbox_container = create_checkboxes(alert_selection_method_list)\n"
   ]
  },
  {
   "cell_type": "code",
   "execution_count": null,
   "id": "9eb54f76",
   "metadata": {},
   "outputs": [],
   "source": [
    "# Options for the checkboxes\n",
    "# Create the exclusive checkbox component\n",
    "card23 = v.Card(class_=\"pa-2\",children=[v.CardTitle(children=[\"Alert selection\"]), checkbox_container])"
   ]
  },
  {
   "cell_type": "code",
   "execution_count": null,
   "id": "0d21956a",
   "metadata": {},
   "outputs": [],
   "source": [
    "# 1. Crear el mapa para seleccionar el área de estudio\n",
    "map_2 = SepalMap()\n",
    "map_2.add(aoi_layer)\n",
    "map_2.layout.height = '100%'"
   ]
  },
  {
   "cell_type": "code",
   "execution_count": null,
   "id": "545f1c7c-7873-4b6b-a5f3-5c5ce5d859af",
   "metadata": {},
   "outputs": [],
   "source": [
    "# Layout 2 de la aplicación\n",
    "layout2 = sw.Row(_metadata={\"mount_id\":\"layout2\"}, fluid=True, children=[\n",
    "    sw.Col(cols=9, children=[map_2], style_='font-size: 12px; max-height: 100vh; overflow-y: auto;'),  # Smaller font and scroll if needed),\n",
    "    sw.Col(cols=3, children=[card21, card22, card23], style_='font-size: 12px; max-height: 100vh; overflow-y: auto;'),\n",
    "])"
   ]
  },
  {
   "cell_type": "markdown",
   "id": "93d4c714",
   "metadata": {},
   "source": [
    "# Pagina 3"
   ]
  },
  {
   "cell_type": "code",
   "execution_count": null,
   "id": "93e54b32",
   "metadata": {},
   "outputs": [],
   "source": [
    "import ipywidgets as widgets\n",
    "\n",
    "#Map Objects\n",
    "map_31 = SepalMap()\n",
    "map_32 = SepalMap()\n",
    "\n",
    "if aoi_layer:\n",
    "    map_31.add_ee_layer(aoi_layer, {}, \"aoi\")\n",
    "if aoi_layer:\n",
    "    map_32.add_ee_layer(aoi_layer, {}, \"aoi\")\n",
    "\n",
    "# Link the zoom level between the two maps\n",
    "zoom_link = widgets.jslink((map_31, 'zoom'), (map_32, 'zoom'))\n",
    "\n",
    "# Link the center coordinates between the two maps\n",
    "center_link = widgets.jslink((map_31, 'center'), (map_32, 'center'))\n",
    "\n",
    "#Map label\n",
    "mapLabel1 = sw.Markdown('Image Before')\n",
    "mapLabel2 = sw.Markdown('Image After')\n",
    "\n",
    "\n",
    "#Add image Selection Button1\n",
    "imgBtn11 = sw.Btn(\"Planet Monthly\", color=\"primary\", outlined=True)\n",
    "imgBtn12 = sw.Btn(\"Sentinel 2\", color=\"primary\", outlined=True)\n",
    "imgBtn13 = sw.Btn(\"Planet Daily\", color=\"primary\", outlined=True)\n",
    "imgSelection1 = sw.Row(children=[imgBtn11, imgBtn12, imgBtn13])\n",
    "\n",
    "#Add image Selection Button2\n",
    "imgBtn21 = sw.Btn(\"Planet Monthly\", color=\"primary\", outlined=True)\n",
    "imgBtn22 = sw.Btn(\"Sentinel 2\", color=\"primary\", outlined=True)\n",
    "imgBtn23 = sw.Btn(\"Planet Daily\", color=\"primary\", outlined=True)\n",
    "imgSelection2 = sw.Row(children=[imgBtn21, imgBtn22, imgBtn23])\n",
    "\n",
    "# Create map with buttons1\n",
    "map31 = sw.Col(children=[mapLabel1, map_31, imgSelection1])\n",
    "\n",
    "# Create map with buttons2\n",
    "map32 = sw.Col(children=[mapLabel2, map_32, imgSelection2])"
   ]
  },
  {
   "cell_type": "code",
   "execution_count": null,
   "id": "0b9b1459",
   "metadata": {},
   "outputs": [],
   "source": [
    "label31 = sw.Markdown('Alert revision module')\n",
    "label32 = sw.Markdown('Keep alert?')\n",
    "button31 = sw.Btn(\"Yes\", color=\"primary\", outlined=True)\n",
    "button32 = sw.Btn(\"No\", color=\"primary\", outlined=True)\n",
    "label33 = sw.Markdown('Define alert')\n",
    "button33 = sw.Btn(\"Draw manually\", color=\"primary\", outlined=True)\n",
    "button34 = sw.Btn(\"Auto\", color=\"primary\", outlined=True)\n",
    "label34 = sw.Markdown('Description Field')\n",
    "comments_input = sw.TextField(label='Enter text here')\n",
    "button35 = sw.Btn(\"Previous\", color=\"primary\", outlined=True)\n",
    "button36 = sw.Btn(\"Next\", color=\"primary\", outlined=True)\n",
    "button37 = sw.DownloadBtn(text = \"Files\")\n",
    "button38 = sw.DownloadBtn(text = \"Report\")\n",
    "\n",
    "\n",
    "row31 = sw.Row(children=[button31, button32])\n",
    "row32 = sw.Row(children=[button33, button34])\n",
    "row33 = sw.Row(children=[button35, button36])\n",
    "row34 = sw.Row(children=[button37, button38])"
   ]
  },
  {
   "cell_type": "code",
   "execution_count": null,
   "id": "5d7a0cc2",
   "metadata": {},
   "outputs": [],
   "source": [
    "# Layout 3 de la aplicación\n",
    "layout3 = sw.Row(_metadata={\"mount_id\":\"layout3\"},children=[\n",
    "    sw.Col(children=[map31]),\n",
    "    sw.Col(children=[map32]),\n",
    "    sw.Col(children=[label31, label32, row31, label33, row32,  label34, comments_input, row33, row34]),\n",
    "])"
   ]
  },
  {
   "cell_type": "markdown",
   "id": "a8e193d1",
   "metadata": {},
   "source": [
    "# Pagina 4"
   ]
  },
  {
   "cell_type": "code",
   "execution_count": null,
   "id": "ba13ae84",
   "metadata": {},
   "outputs": [],
   "source": [
    "label41 = sw.Markdown('CCDC Alerts Asset')\n",
    "ccdc_alerts_input = sw.inputs.AssetSelect()\n",
    "label42 = sw.Markdown('Mask Asset')\n",
    "fnf_input = sw.inputs.AssetSelect()\n",
    "label43 = sw.Markdown('Auxiliary Asset')\n",
    "aux_input = sw.inputs.AssetSelect()\n",
    "label44 = sw.Markdown('Planet Login Data')\n",
    "planet_view = PlanetView()\n",
    "label45 = sw.Markdown('Report template')\n",
    "form_input = sw.FileInput()\n",
    "\n",
    "# Layout 4 de la aplicación\n",
    "layout4 = sw.Row(_metadata={\"mount_id\":\"layout4\"},children=[\n",
    "    sw.Col(children=[label41, ccdc_alerts_input, label42, fnf_input, label43, aux_input, label44, planet_view, label45, form_input]),\n",
    "])"
   ]
  },
  {
   "cell_type": "markdown",
   "id": "7f457f3d",
   "metadata": {},
   "source": [
    "# Pagina 5"
   ]
  },
  {
   "cell_type": "code",
   "execution_count": null,
   "id": "969ee24e",
   "metadata": {},
   "outputs": [],
   "source": [
    "label51 = sw.Markdown('New Recipe')\n",
    "new_recipe_input = sw.FileInput()\n",
    "label52 = sw.Markdown('Load Recipe')\n",
    "load_recipe_input = sw.FileInput()\n",
    "label53 = sw.Markdown('Save Recipe')\n",
    "save_recipe_input = sw.FileInput()\n",
    "\n",
    "\n",
    "\n",
    "# Layout 5 de la aplicación\n",
    "layout5 = sw.Row(_metadata={\"mount_id\":\"recipe\"},children=[\n",
    "    sw.Col(children=[label51, new_recipe_input, label52, load_recipe_input, label53, save_recipe_input]),\n",
    "])"
   ]
  },
  {
   "cell_type": "markdown",
   "id": "f1d318b6",
   "metadata": {},
   "source": [
    "# Pagina 6"
   ]
  },
  {
   "cell_type": "code",
   "execution_count": null,
   "id": "0015d166",
   "metadata": {},
   "outputs": [],
   "source": [
    "map_6 = SepalMap()\n",
    "label61 = sw.Markdown('Total Alerts: ')\n",
    "label62 = sw.Markdown('Reviewed Alerts: ')\n",
    "label63 = sw.Markdown('Confirmed Alerts: ')\n",
    "label64 = sw.Markdown('False positives: ')\n",
    "\n",
    "\n",
    "# Layout 6 de la aplicación\n",
    "layout6 = sw.Row(_metadata={\"mount_id\":\"review\"},children=[\n",
    "    sw.Col(cols=9, children=[map_6]),\n",
    "    sw.Col(cols=3, children=[label61, label62, label63, label64]),\n",
    "])\n"
   ]
  },
  {
   "cell_type": "markdown",
   "id": "14a9feb3",
   "metadata": {},
   "source": [
    "# Test"
   ]
  },
  {
   "cell_type": "code",
   "execution_count": null,
   "id": "ea9ef03b",
   "metadata": {},
   "outputs": [],
   "source": [
    "map_41 = SepalMap()"
   ]
  },
  {
   "cell_type": "code",
   "execution_count": null,
   "id": "3a3ce584",
   "metadata": {},
   "outputs": [],
   "source": [
    "#print(dir(map_41))"
   ]
  },
  {
   "cell_type": "code",
   "execution_count": null,
   "id": "66f42818",
   "metadata": {},
   "outputs": [],
   "source": [
    "#print(getattr(map_41, 'style'))"
   ]
  },
  {
   "cell_type": "code",
   "execution_count": null,
   "id": "f59c67f2",
   "metadata": {},
   "outputs": [],
   "source": [
    "# Create the layout with two elements\n",
    "panel_layout = sw.Container(_metadata={\"mount_id\":\"test\"},\n",
    "    fluid=True,  # Ensures the container takes up the full width\n",
    "    children=[\n",
    "        v.Row(\n",
    "            children=[\n",
    "                v.Col(\n",
    "                    cols=9,  # 75% width (9 out of 12 columns)\n",
    "                    class_=\"pa-2\",  # Padding adjustment\n",
    "                    style=\"height: 100vh;\",  # 100% height\n",
    "                    children=[\n",
    "                        v.Card(\n",
    "                            class_=\"pa-4\",\n",
    "                            children=[\n",
    "                                v.CardTitle(children=[\"Left Panel - 75% Width\"]),\n",
    "                                map_41\n",
    "                            ]\n",
    "                        )\n",
    "                    ]\n",
    "                ),\n",
    "                v.Col(\n",
    "                    cols=3,  # 25% width (3 out of 12 columns)\n",
    "                    class_=\"pa-2\",  # Padding adjustment\n",
    "                    style=\"height: 100vh;\",  # 100% height\n",
    "                    children=[\n",
    "                        v.Card(\n",
    "                            class_=\"pa-4\",\n",
    "                            children=[\n",
    "                                v.CardTitle(children=[\"Right Panel - 25% Width\"]),\n",
    "                                v.CardText(children=[\"This panel covers the remaining 25% width.\"])\n",
    "                            ]\n",
    "                        )\n",
    "                    ]\n",
    "                ),\n",
    "            ]\n",
    "        )\n",
    "    ]\n",
    ")\n"
   ]
  },
  {
   "cell_type": "code",
   "execution_count": null,
   "id": "4445c51a",
   "metadata": {},
   "outputs": [],
   "source": [
    "panel_layout"
   ]
  }
 ],
 "metadata": {
  "kernelspec": {
   "display_name": "Python 3",
   "language": "python",
   "name": "python3"
  },
  "language_info": {
   "codemirror_mode": {
    "name": "ipython",
    "version": 3
   },
   "file_extension": ".py",
   "mimetype": "text/x-python",
   "name": "python",
   "nbconvert_exporter": "python",
   "pygments_lexer": "ipython3",
   "version": "3.10.12"
  }
 },
 "nbformat": 4,
 "nbformat_minor": 5
}
